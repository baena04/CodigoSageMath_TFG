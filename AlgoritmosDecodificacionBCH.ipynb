{
 "cells": [
  {
   "cell_type": "markdown",
   "metadata": {},
   "source": [
    "## Algoritmos de decodificación para códigos BCH\n",
    "#### Autor: Javier Ojeda Baena\n",
    "#### DNI: 75943022N"
   ]
  },
  {
   "cell_type": "code",
   "execution_count": 1,
   "metadata": {},
   "outputs": [],
   "source": [
    "from sage.coding.bch_code import BCHCode\n",
    "from sage.coding.cyclic_code import CyclicCode\n",
    "from sage.coding.encoder import Encoder\n",
    "from sage.coding.decoder import Decoder\n",
    "from IPython.display import HTML"
   ]
  },
  {
   "cell_type": "code",
   "execution_count": 2,
   "metadata": {},
   "outputs": [],
   "source": [
    "def random_word(n, F):\n",
    "    \"\"\"\n",
    "    Genera una palabra aleatoria de longitud n utilizando los elementos de un cuerpo finito F.\n",
    "\n",
    "    Parámetros:\n",
    "        - n : longitud de la palabra que se quiere generar.\n",
    "        - F : cuerpo finito del que se van a coger los elementos para generar la palabra aleatoria.\n",
    "\n",
    "    Devuelve:\n",
    "        Palabra aleatoria de longitud n con elementos de F\n",
    "    \"\"\"\n",
    "    word = []\n",
    "\n",
    "    while len(word) != n:\n",
    "        word = word + [choice(F.list())]\n",
    "\n",
    "    word = vector(word, F)\n",
    "    \n",
    "    return word"
   ]
  },
  {
   "cell_type": "code",
   "execution_count": 3,
   "metadata": {},
   "outputs": [],
   "source": [
    "def random_error(n, n_errors, F):\n",
    "    \"\"\"\n",
    "    Genera un vector de errores aleatorios de longitud n, que tiene como máximo n errors \n",
    "    elementos no nulos, utilizando elementos del cuerpo finito F.\n",
    "\n",
    "    Parámetros:\n",
    "        - n : longitud del vector de errores que se quiere generar.\n",
    "        - n_errors : número máximo de elementos no nulos que se quieren en el vector de errores.\n",
    "        - F : cuerpo finito del que se van a coger los elementos para generar el vector de errores aleatorios.\n",
    "        \n",
    "    Devuelve:\n",
    "        - Vector de errores aleatorios con n elementos, n_errors elementos no nulos con elementos de F\n",
    "    \"\"\"\n",
    "    e = [0] * n\n",
    "    \n",
    "    i = 0\n",
    "    \n",
    "    while i < n_errors:\n",
    "        p = randint(0, n-1)\n",
    "        e[p] = choice(F.list())\n",
    "        i += 1\n",
    "\n",
    "    e = vector(e, F)\n",
    "    \n",
    "    return e"
   ]
  },
  {
   "cell_type": "code",
   "execution_count": 4,
   "metadata": {},
   "outputs": [],
   "source": [
    "class BCHEncoder(Encoder):\n",
    "    \"\"\"\n",
    "    Clase que representa un codificador BCH.\n",
    "    \"\"\"\n",
    "    \n",
    "    \n",
    "    def __init__(self, code):\n",
    "        \"\"\"\n",
    "        Constructor de la clase.\n",
    "\n",
    "        Parámetros:\n",
    "            - code: código BCH.\n",
    "        \"\"\"\n",
    "        super(BCHEncoder, self).__init__(code)\n",
    "        \n",
    "        \n",
    "    def _repr_(self):\n",
    "        \"\"\"\n",
    "        Método que devuelve una representación en cadena de caracteres de la clase.\n",
    "\n",
    "        Devuelve:\n",
    "            - Cadena de caracteres que representa el objeto.\n",
    "        \"\"\"\n",
    "        return \"Encoder for {}\".format(self.code())\n",
    "    \n",
    "    \n",
    "    def encode (self, m):\n",
    "        \"\"\"\n",
    "        Método que codifica un mensaje utilizando el código BCH.\n",
    "\n",
    "        Parámetros:\n",
    "            - m: mensaje a codificar.\n",
    "\n",
    "        Devuelve:\n",
    "            - Mensaje codificado con el código BCH.\n",
    "        \"\"\"\n",
    "        return m * self.code().generator_matrix()"
   ]
  },
  {
   "cell_type": "markdown",
   "metadata": {},
   "source": [
    "## Decodificador con el algoritmos de Peterson-Gorenstein-Zieler\n",
    "1. Calcular los sindrome $S_{i}=y(\\xi^{i})$ para $1\\leq i\t\\leq 2t$.\n",
    "\n",
    "\n",
    "2. Sea:\n",
    "\n",
    "$$M_{\\mu}=\\begin{pmatrix}\n",
    "S_{1} & S_{2} & \\cdots &  S_{\\mu}\\\\\n",
    "S_{2} & S_{3} & \\cdots &  S_{\\mu+1}\\\\\n",
    " & & \\vdots & \\\\\n",
    "S_{\\mu} & S_{\\mu+1} & \\cdots & S_{2\\mu-1}\\\\\n",
    "\\end{pmatrix}$$\n",
    "\n",
    "En el orden $\\mu=t,\\,\\mu=t-1,\\,\\ldots$ decidimos si $M_{\\mu}$ es singular, parando al primer valor de $\\mu$ para el que $M_{\\mu}$ es no singular. Tomamos $v=\\mu$ y resolvermos el siguiente sistema para determinar $\\sigma(x)$:\n",
    "\n",
    "$$\\begin{pmatrix}\n",
    "S_{1} & S_{2} & S_{3} & \\cdots & S_{v-1} & S_{v}\\\\\n",
    "S_{2} & S_{3} & S_{4} & \\cdots & S_{v} & S_{v+1}\\\\\n",
    "S_{3} & S_{4} & S_{5} & \\cdots & S_{v+1} & S_{v+2}\\\\\n",
    " & & & \\vdots & & \\\\\n",
    "S_{v} & S_{v+1} & S_{v+2} & \\cdots & S_{2v-2} & S_{2v-1}\\\\\n",
    "\\end{pmatrix}\\begin{pmatrix}\n",
    "\\sigma_{v}\\\\\n",
    "\\sigma_{v-1}\\\\\n",
    "\\sigma_{v-2}\\\\\n",
    "\\vdots\\\\\n",
    "\\sigma_{1}\n",
    "\\end{pmatrix}=\\begin{pmatrix}\n",
    "-S_{v+1}\\\\\n",
    "-S_{v+2}\\\\\n",
    "-S_{v+3}\\\\\n",
    "\\vdots\\\\\n",
    "-S_{2v}\n",
    "\\end{pmatrix}$$\n",
    "\n",
    "\n",
    "3. Entontramos las raices de $\\sigma(x)$ calculando $\\sigma(\\xi^{i})$ para $0\\leq i<n$. Invertimos las raices para obtener las posiciones de los errores $X_{j}$.\n",
    "\n",
    "\n",
    "4. Resolvemos las primeras $v$ ecuaciones del siguiente sistema para obterner las magnitudes de los errores $E_{j}$:\n",
    "\n",
    "$$S_{1}=E_{1}X_{1}+E_{2}X_{2}+\\cdots+E_{v}X_{v}$$\n",
    "$$S_{2}=E_{1}X_{1}^{2}+E_{2}X_{2}^{2}+\\cdots+E_{v}X_{v}^{2}$$\n",
    "$$S_{3}=E_{1}X_{1}^{3}+E_{2}X_{2}^{3}+\\cdots+E_{v}X_{v}^{3}$$\n",
    "$$\\vdots$$\n",
    "$$S_{2t}=E_{1}X_{1}^{2t}+E_{2}X_{2}^{2t}+\\cdots+E_{v}X_{v}^{2t}$$"
   ]
  },
  {
   "cell_type": "code",
   "execution_count": 5,
   "metadata": {},
   "outputs": [],
   "source": [
    "class BCHDecoderPGZ(Decoder):\n",
    "    \"\"\"\n",
    "    Implementación del decodificador con el algoritmo de Peterson-Gorenstein-Zieler\n",
    "    para códigos BCH.\n",
    "    \"\"\"\n",
    "        \n",
    "    \n",
    "    def __init__(self, code):\n",
    "        \"\"\"\n",
    "        Constructor de la clase.\n",
    "\n",
    "        Parámetros:\n",
    "            - code: código BCH.\n",
    "        \"\"\"\n",
    "        super(BCHDecoderPGZ, self).__init__(code, code.ambient_space(), \"BCHDecoderPGZ\")\n",
    "    \n",
    "    \n",
    "    def _repr_(self):\n",
    "        \"\"\"\n",
    "        Método que devuelve una representación en cadena de caracteres de la clase.\n",
    "\n",
    "        Devuelve:\n",
    "            - cadena de caracteres que representa el objeto.\n",
    "        \"\"\"\n",
    "        return \"Peterson-Gorenstein-Zieler decoder for {}\".format(self.code())  \n",
    "\n",
    "    \n",
    "    \n",
    "    def decode_to_code(self, y):\n",
    "        \"\"\"\n",
    "        Dado un vector y calcula la palabra código más cercana a este con el algoritmo de\n",
    "        Peterson-Gorenstein-Zieler\n",
    "\n",
    "        Parámetros:\n",
    "            - y: vector a decodificar.\n",
    "\n",
    "        Devuelve:\n",
    "            - La palabra código más cercana a y.\n",
    "        \"\"\"\n",
    "        \n",
    "        F = self.code().base_field()\n",
    "        q = len(F.list())\n",
    "        n = self.code().length()\n",
    "        \n",
    "        m = 1\n",
    "        \n",
    "        while (q**m%n != 1):\n",
    "            m += 1\n",
    "            \n",
    "        L = GF(q^m)\n",
    "        R.<x> = L[]    \n",
    "\n",
    "        # Paso 1: calculamos S e inicializamos los primeros valores del algoritmo\n",
    "        \n",
    "        t = floor((self.code().designed_distance()-1)/2)\n",
    "        primitive_root = GF(q^m).gen()**((q**m-1)//n)\n",
    "        \n",
    "        y_polynomial = 0\n",
    "        for i in range(len(y)):\n",
    "            y_polynomial += y[i]*x**i\n",
    "\n",
    "        S = vector([y_polynomial(primitive_root**i) for i in range(1, 2*t+1)])\n",
    "        \n",
    "        if S.is_zero():\n",
    "            return y\n",
    "\n",
    "        mu = t\n",
    "        \n",
    "        M = []\n",
    "        \n",
    "        for i in range(mu):\n",
    "            M.append(S[i:(i+mu)])\n",
    "            \n",
    "        M = matrix(M)\n",
    "        \n",
    "        while M.is_singular():\n",
    "            mu -= 1\n",
    "            \n",
    "            M = []\n",
    "        \n",
    "            for i in range(mu):\n",
    "                M.append(S[i:(i+mu)])\n",
    "\n",
    "            M = matrix(M)\n",
    "        \n",
    "        v = mu\n",
    "        \n",
    "        A = []\n",
    "        \n",
    "        for i in range(v):\n",
    "            A.append(S[i:(i+v)])\n",
    "            \n",
    "        A = matrix(A)\n",
    "        \n",
    "        s = A.solve_right(-S[v:(2*v)])\n",
    "        \n",
    "        sigma = 1\n",
    "        \n",
    "        for i in range(v):\n",
    "            sigma = sigma + s[-i-1]*x**(i+1)\n",
    "        \n",
    "        # Paso 3: calculamos las posiciones de los errores, sabiendo que son los inversos de las raices\n",
    "        #         de sigma(x)\n",
    "        \n",
    "        xi = [primitive_root**i for i in range(n)]\n",
    "        \n",
    "        k = []\n",
    "        for root in sigma.roots():\n",
    "            k.append(xi.index(root[0]**(-1)))\n",
    "        \n",
    "        # Paso 4: resolvemos el sistema formado por los sindromes, las posiciones de los errores, y las\n",
    "        #         magnitudes de los mismos\n",
    "        \n",
    "        A = []\n",
    "        \n",
    "        for i in range(1, 2*t+1):\n",
    "            equation = []\n",
    "            for root in sigma.roots():\n",
    "                equation.append(root[0]**(-i))\n",
    "            A.append(equation)\n",
    "            \n",
    "        A = matrix(A)\n",
    "        \n",
    "        E = A.solve_right(S)\n",
    "        \n",
    "        # Calculamos el vector de errores\n",
    "        \n",
    "        e = [0] * n\n",
    "        \n",
    "        v = len(k)\n",
    "        \n",
    "        for i in range(v):\n",
    "            e[k[i]] = E[i]\n",
    "            \n",
    "        y_decoded = y-vector(e, F)\n",
    "        \n",
    "        return y_decoded\n",
    "\n",
    "    def decode_to_message(self, y):\n",
    "        \"\"\"\n",
    "        Dado un vector y lo decodifica con el algoritmo de Peterson-Gorenstein-Zieler obteniendo\n",
    "        el mensaje original.\n",
    "\n",
    "        Parámetros:\n",
    "            - y: vector a decodificar.\n",
    "\n",
    "        Devuelve:\n",
    "            - Mensaje decodificado.\n",
    "        \"\"\"\n",
    "        c_decoded = self.decode_to_code(y)\n",
    "        word = self.code().generator_matrix().solve_left(c_decoded)\n",
    "        return word"
   ]
  },
  {
   "cell_type": "markdown",
   "metadata": {},
   "source": [
    "## Decodificador con el algoritmos de Sugiyama\n",
    "El proceso final coincide con el algoritmo de Peterson-Gorenstein-Ziele, la única parte que cambia es la forma de calcular $\\sigma(x)$ el polinomio localizador de errores:\n",
    "\n",
    "1. Calculamos el síndrome $S(x)=\\displaystyle\\sum_{i=0}^{2t-1} S_{i+1}x^{i}$.\n",
    "\n",
    "\n",
    "2. Sean $r_{-1}(x) = x^{2t}$, $r_0(x) = S(x)$, $b_{-1}(x) = 0$ y $b_0(x) = 1$. Repetimos los siguientes dos calculos encontrando $h_{i}(x),\\,r_{i}(x),\\,\\text{ y }b_{i}(x)$ de forma inductiva para $i=1,\\,2,\\,\\ldots,\\,I$, hasta $I$ satisfaciendo $grad(r_{I-1}(x)\\geq t$ y $grad(r_{I}(x))<t$:\n",
    "$$r_{i-2}(x)=r_{i-1}(x)h_{i}+r_{i}(x),\\text{ donde }grad(r_{i}(x))<grad(r_{i-1}(x))$$\n",
    "$$b_{i}(x)=b_{i-2}(x)-h_{i}(x)b_{i-1}(x)$$\n",
    "\n",
    "\n",
    "3. $\\sigma(x)$ es algun escalar distinto de cero multiplicado por $b_{I}(x)$."
   ]
  },
  {
   "cell_type": "code",
   "execution_count": 6,
   "metadata": {},
   "outputs": [],
   "source": [
    "class BCHDecoderS(Decoder):\n",
    "    \"\"\"\n",
    "    Implementación del decodificador con el algoritmo de Sugiyama para códigos BCH.\n",
    "    \"\"\"\n",
    "        \n",
    "    \n",
    "    def __init__(self, code):\n",
    "        \"\"\"\n",
    "        Constructor de la clase.\n",
    "\n",
    "        Parámetros:\n",
    "            - code: código BCH.\n",
    "        \"\"\"\n",
    "        super(BCHDecoderS, self).__init__(code, code.ambient_space(), \"BCHDecoderS\")\n",
    "    \n",
    "    \n",
    "    def _repr_(self):\n",
    "        \"\"\"\n",
    "        Método que devuelve una representación en cadena de caracteres de la clase.\n",
    "\n",
    "        Devuelve:\n",
    "            - Cadena de caracteres que representa el objeto.\n",
    "        \"\"\"\n",
    "        return \"Sugiyama decoder for {}\".format(self.code())  \n",
    "\n",
    "    \n",
    "    \n",
    "    def decode_to_code(self, y):\n",
    "        \"\"\"\n",
    "        Dado un vector y calcula la palabra código más cercana a este con el algoritmo de Sugiyama\n",
    "\n",
    "        Parámetros:\n",
    "            - y: vector a decodificar.\n",
    "\n",
    "        Devuelve:\n",
    "            - La palabra código más cercana a y.\n",
    "        \"\"\"\n",
    "        \n",
    "        F = self.code().base_field()\n",
    "        q = len(F.list())\n",
    "        n = self.code().length()\n",
    "        \n",
    "        m = 1\n",
    "        \n",
    "        while (q**m%n != 1):\n",
    "            m += 1\n",
    "            \n",
    "        L = GF(q^m)\n",
    "        R.<x> = L[] \n",
    "\n",
    "        # Paso 1: calculamos S(x) e inicializamos los primeros valores del algoritmo\n",
    "        \n",
    "        t = floor((self.code().designed_distance()-1)/2)\n",
    "        primitive_root = GF(q^m).gen()**((q**m-1)//n)\n",
    "        \n",
    "        y_polynomial = 0\n",
    "        for i in range(len(y)):\n",
    "            y_polynomial += y[i]*x**i\n",
    "\n",
    "            \n",
    "        S = vector([y_polynomial(primitive_root**i) for i in range(1, 2*t+1)])\n",
    "        \n",
    "        S_polynomial = 0\n",
    "\n",
    "        for j in range(len(S)):\n",
    "            S_polynomial = S_polynomial+S[j]*x**j\n",
    "\n",
    "        if S_polynomial == 0:\n",
    "            return y\n",
    "        \n",
    "        i = 1\n",
    "        \n",
    "        f = x**(2*t)\n",
    "        s = S_polynomial\n",
    "        r = [f, s]\n",
    "        b = [0, 1]\n",
    "        \n",
    "        # Paso 2: calculamos el el polinomio bI(x)\n",
    "\n",
    "        while r[i].degree() >= t or r[i-1].degree() < t:\n",
    "            (q, rs) = r[i-1].quo_rem(r[i])\n",
    "            r.append(rs)\n",
    "            b.append(b[i-1]-q*b[i])\n",
    "            i += 1\n",
    "        \n",
    "        \n",
    "        # Paso 3: el polinomio localizador de errores, sigma, es bI(x) por algún escalar distinto de 0\n",
    "        \n",
    "        sigma = b[i] / b[i].coefficients()[-1]\n",
    "        \n",
    "        # Paso 4: calculamos las posiciones de los errores, sabiendo que son los inversos de las raices\n",
    "        #         de sigma(x)\n",
    "        \n",
    "        xi = [primitive_root**i for i in range(n)]\n",
    "        \n",
    "        k = []\n",
    "        for root in sigma.roots():\n",
    "            k.append(xi.index(root[0]**(-1)))\n",
    "        \n",
    "        # Paso 5: resolvemos el sistema formado por los sindromes, las posiciones de los errores, y las\n",
    "        #         magnitudes de los mismos\n",
    "        \n",
    "        A = []\n",
    "        \n",
    "        for i in range(1, 2*t+1):\n",
    "            equation = []\n",
    "            for root in sigma.roots():\n",
    "                equation.append(root[0]**(-i))\n",
    "            A.append(equation)\n",
    "            \n",
    "        A = matrix(A)\n",
    "        \n",
    "        E = A.solve_right(S)\n",
    "        \n",
    "        # Calculamos el vector de errores\n",
    "        \n",
    "        e = [0] * n\n",
    "        \n",
    "        v = len(k)\n",
    "        \n",
    "        for i in range(v):\n",
    "            e[k[i]] = E[i]\n",
    "            \n",
    "        y_decoded = y-vector(e, F)\n",
    "        \n",
    "        return y_decoded\n",
    "\n",
    "    def decode_to_message(self, y):\n",
    "        \"\"\"\n",
    "        Dado un vector y lo decodifica con el algoritmo de Sugiyama obteniendo el mensaje original.\n",
    "\n",
    "        Parámetros:\n",
    "            - y: vector a decodificar.\n",
    "\n",
    "        Devuelve:\n",
    "            - El mensaje decodificado.\n",
    "        \"\"\"\n",
    "        c_decoded = self.decode_to_code(y)\n",
    "        word = self.code().generator_matrix().solve_left(c_decoded)\n",
    "        return word"
   ]
  },
  {
   "cell_type": "markdown",
   "metadata": {},
   "source": [
    "## Ejemplo 1"
   ]
  },
  {
   "cell_type": "markdown",
   "metadata": {},
   "source": [
    "### Generación del código y la palabra a codificar"
   ]
  },
  {
   "cell_type": "markdown",
   "metadata": {},
   "source": [
    "Creamos un código BCH sobre $\\mathbb{F}_{5}$, de longitud $11$ y distancia diseñada $2$:"
   ]
  },
  {
   "cell_type": "code",
   "execution_count": 7,
   "metadata": {},
   "outputs": [
    {
     "name": "stdout",
     "output_type": "stream",
     "text": [
      "Código BCH:\n",
      "[11, 6] BCH Code over GF(5) with designed distance 2\n",
      "\n",
      "Matriz de paridad:\n"
     ]
    },
    {
     "name": "stderr",
     "output_type": "stream",
     "text": [
      "/usr/lib/python3/dist-packages/sage/coding/cyclic_code.py:451: FutureWarning: This class/method/function is marked as experimental. It, its functionality or its interface might change without a formal deprecation.\n",
      "See http://trac.sagemath.org/20284 for details.\n",
      "  FE = RelativeFiniteFieldExtension(Fsplit, F,\n"
     ]
    },
    {
     "data": {
      "text/html": [
       "<html><script type=\"math/tex; mode=display\">\\newcommand{\\Bold}[1]{\\mathbf{#1}}\\left(\\begin{array}{rrrrrrrrrrr}\n",
       "1 & 1 & 2 & 2 & 0 & 3 & 1 & 0 & 0 & 0 & 0 \\\\\n",
       "0 & 1 & 1 & 2 & 2 & 0 & 3 & 1 & 0 & 0 & 0 \\\\\n",
       "0 & 0 & 1 & 1 & 2 & 2 & 0 & 3 & 1 & 0 & 0 \\\\\n",
       "0 & 0 & 0 & 1 & 1 & 2 & 2 & 0 & 3 & 1 & 0 \\\\\n",
       "0 & 0 & 0 & 0 & 1 & 1 & 2 & 2 & 0 & 3 & 1\n",
       "\\end{array}\\right)</script></html>"
      ],
      "text/plain": [
       "[1 1 2 2 0 3 1 0 0 0 0]\n",
       "[0 1 1 2 2 0 3 1 0 0 0]\n",
       "[0 0 1 1 2 2 0 3 1 0 0]\n",
       "[0 0 0 1 1 2 2 0 3 1 0]\n",
       "[0 0 0 0 1 1 2 2 0 3 1]"
      ]
     },
     "metadata": {},
     "output_type": "display_data"
    },
    {
     "name": "stdout",
     "output_type": "stream",
     "text": [
      "\n",
      "Matriz generadora:\n"
     ]
    },
    {
     "data": {
      "text/html": [
       "<html><script type=\"math/tex; mode=display\">\\newcommand{\\Bold}[1]{\\mathbf{#1}}\\left(\\begin{array}{rrrrrrrrrrr}\n",
       "4 & 3 & 1 & 4 & 4 & 1 & 0 & 0 & 0 & 0 & 0 \\\\\n",
       "0 & 4 & 3 & 1 & 4 & 4 & 1 & 0 & 0 & 0 & 0 \\\\\n",
       "0 & 0 & 4 & 3 & 1 & 4 & 4 & 1 & 0 & 0 & 0 \\\\\n",
       "0 & 0 & 0 & 4 & 3 & 1 & 4 & 4 & 1 & 0 & 0 \\\\\n",
       "0 & 0 & 0 & 0 & 4 & 3 & 1 & 4 & 4 & 1 & 0 \\\\\n",
       "0 & 0 & 0 & 0 & 0 & 4 & 3 & 1 & 4 & 4 & 1\n",
       "\\end{array}\\right)</script></html>"
      ],
      "text/plain": [
       "[4 3 1 4 4 1 0 0 0 0 0]\n",
       "[0 4 3 1 4 4 1 0 0 0 0]\n",
       "[0 0 4 3 1 4 4 1 0 0 0]\n",
       "[0 0 0 4 3 1 4 4 1 0 0]\n",
       "[0 0 0 0 4 3 1 4 4 1 0]\n",
       "[0 0 0 0 0 4 3 1 4 4 1]"
      ]
     },
     "metadata": {},
     "output_type": "display_data"
    },
    {
     "name": "stdout",
     "output_type": "stream",
     "text": [
      "\n",
      "Polinomio generador:\n"
     ]
    },
    {
     "data": {
      "text/html": [
       "<html><script type=\"math/tex; mode=display\">\\newcommand{\\Bold}[1]{\\mathbf{#1}}x^{5} + 4 x^{4} + 4 x^{3} + x^{2} + 3 x + 4</script></html>"
      ],
      "text/plain": [
       "x^5 + 4*x^4 + 4*x^3 + x^2 + 3*x + 4"
      ]
     },
     "metadata": {},
     "output_type": "display_data"
    }
   ],
   "source": [
    "q = 5\n",
    "F = GF(q)\n",
    "n = 11\n",
    "delta = 2\n",
    "C = BCHCode(F, n, delta, None)\n",
    "d = C.generator_matrix().nrows()\n",
    "\n",
    "print(\"Código BCH:\")\n",
    "print(C)\n",
    "\n",
    "print(\"\\nMatriz de paridad:\")\n",
    "show(C.parity_check_matrix())\n",
    "\n",
    "print(\"\\nMatriz generadora:\")\n",
    "show(C.generator_matrix())\n",
    "\n",
    "print(\"\\nPolinomio generador:\")\n",
    "show(CyclicCode(code = C).generator_polynomial())"
   ]
  },
  {
   "cell_type": "markdown",
   "metadata": {},
   "source": [
    "Generamos una palabra aleatoria de tamaño $n$ de elementos del cuerpo finito, $\\mathbb{F}_{5}$."
   ]
  },
  {
   "cell_type": "code",
   "execution_count": 8,
   "metadata": {
    "scrolled": true
   },
   "outputs": [
    {
     "name": "stdout",
     "output_type": "stream",
     "text": [
      "Codificador BCH:\n",
      "Encoder for [11, 6] BCH Code over GF(5) with designed distance 2\n",
      "\n",
      "Palabra para codificar:\n"
     ]
    },
    {
     "data": {
      "text/html": [
       "<html><script type=\"math/tex; mode=display\">\\newcommand{\\Bold}[1]{\\mathbf{#1}}\\left(0,\\,2,\\,4,\\,0,\\,1,\\,4\\right)</script></html>"
      ],
      "text/plain": [
       "(0, 2, 4, 0, 1, 4)"
      ]
     },
     "metadata": {},
     "output_type": "display_data"
    }
   ],
   "source": [
    "Encoder = BCHEncoder(C)\n",
    "\n",
    "print(\"Codificador BCH:\")\n",
    "print(Encoder)\n",
    "\n",
    "print(\"\\nPalabra para codificar:\")\n",
    "message = random_word(d, F)\n",
    "show(message)"
   ]
  },
  {
   "cell_type": "markdown",
   "metadata": {},
   "source": [
    "Codificamos la palabra."
   ]
  },
  {
   "cell_type": "code",
   "execution_count": 9,
   "metadata": {},
   "outputs": [
    {
     "name": "stdout",
     "output_type": "stream",
     "text": [
      "\n",
      "Palabra codificada:\n"
     ]
    },
    {
     "data": {
      "text/html": [
       "<html><script type=\"math/tex; mode=display\">\\newcommand{\\Bold}[1]{\\mathbf{#1}}\\left(0,\\,3,\\,2,\\,4,\\,1,\\,3,\\,1,\\,2,\\,0,\\,2,\\,4\\right)</script></html>"
      ],
      "text/plain": [
       "(0, 3, 2, 4, 1, 3, 1, 2, 0, 2, 4)"
      ]
     },
     "metadata": {},
     "output_type": "display_data"
    }
   ],
   "source": [
    "print(\"\\nPalabra codificada:\")\n",
    "c = Encoder.encode(message)\n",
    "show(c)"
   ]
  },
  {
   "cell_type": "markdown",
   "metadata": {},
   "source": [
    "Generamos un vector de errores y se lo agregamos a la palabra codidicada."
   ]
  },
  {
   "cell_type": "code",
   "execution_count": 10,
   "metadata": {},
   "outputs": [
    {
     "name": "stdout",
     "output_type": "stream",
     "text": [
      "\n",
      "Vector de errores:\n"
     ]
    },
    {
     "data": {
      "text/html": [
       "<html><script type=\"math/tex; mode=display\">\\newcommand{\\Bold}[1]{\\mathbf{#1}}\\left(0,\\,0,\\,0,\\,0,\\,0,\\,0,\\,0,\\,0,\\,0,\\,0,\\,0\\right)</script></html>"
      ],
      "text/plain": [
       "(0, 0, 0, 0, 0, 0, 0, 0, 0, 0, 0)"
      ]
     },
     "metadata": {},
     "output_type": "display_data"
    },
    {
     "name": "stdout",
     "output_type": "stream",
     "text": [
      "\n",
      "Palabra codificada con errores (y = c + e):\n"
     ]
    },
    {
     "data": {
      "text/html": [
       "<html><script type=\"math/tex; mode=display\">\\newcommand{\\Bold}[1]{\\mathbf{#1}}\\left(0,\\,3,\\,2,\\,4,\\,1,\\,3,\\,1,\\,2,\\,0,\\,2,\\,4\\right)</script></html>"
      ],
      "text/plain": [
       "(0, 3, 2, 4, 1, 3, 1, 2, 0, 2, 4)"
      ]
     },
     "metadata": {},
     "output_type": "display_data"
    }
   ],
   "source": [
    "print(\"\\nVector de errores:\")\n",
    "n_errors = floor((delta-1)/2)\n",
    "e = random_error(len(c), n_errors, F)\n",
    "show(e)\n",
    "\n",
    "print(\"\\nPalabra codificada con errores (y = c + e):\")\n",
    "y = c + e\n",
    "show(y)"
   ]
  },
  {
   "cell_type": "markdown",
   "metadata": {},
   "source": [
    "### Algoritmo de Peterson-Gorenstein-Zieler\n",
    "Decodificamos con el algoritmo de Peterson-Gorenstein Zieler y comprobamos si coincide con el mensaje original."
   ]
  },
  {
   "cell_type": "code",
   "execution_count": 11,
   "metadata": {
    "scrolled": true
   },
   "outputs": [
    {
     "name": "stdout",
     "output_type": "stream",
     "text": [
      "\n",
      "Decodificador BCH con el algoritmo de Peterson-Gorenstein-Zieler:\n",
      "Peterson-Gorenstein-Zieler decoder for [11, 6] BCH Code over GF(5) with designed distance 2\n",
      "\n",
      "Decodificacion de y:\n"
     ]
    },
    {
     "data": {
      "text/html": [
       "<html><script type=\"math/tex; mode=display\">\\newcommand{\\Bold}[1]{\\mathbf{#1}}\\left(0,\\,3,\\,2,\\,4,\\,1,\\,3,\\,1,\\,2,\\,0,\\,2,\\,4\\right)</script></html>"
      ],
      "text/plain": [
       "(0, 3, 2, 4, 1, 3, 1, 2, 0, 2, 4)"
      ]
     },
     "metadata": {},
     "output_type": "display_data"
    },
    {
     "name": "stdout",
     "output_type": "stream",
     "text": [
      "\n",
      "Mensaje decodificado de y:\n"
     ]
    },
    {
     "data": {
      "text/html": [
       "<html><script type=\"math/tex; mode=display\">\\newcommand{\\Bold}[1]{\\mathbf{#1}}\\left(0,\\,2,\\,4,\\,0,\\,1,\\,4\\right)</script></html>"
      ],
      "text/plain": [
       "(0, 2, 4, 0, 1, 4)"
      ]
     },
     "metadata": {},
     "output_type": "display_data"
    }
   ],
   "source": [
    "Decoder = BCHDecoderPGZ(C)\n",
    "\n",
    "print(\"\\nDecodificador BCH con el algoritmo de Peterson-Gorenstein-Zieler:\")\n",
    "print(Decoder)\n",
    "\n",
    "print(\"\\nDecodificacion de y:\")\n",
    "c_decoded = Decoder.decode_to_code(y)\n",
    "show(c_decoded)\n",
    "\n",
    "print(\"\\nMensaje decodificado de y:\")\n",
    "message_decoded = Decoder.decode_to_message(y)\n",
    "show(message_decoded)"
   ]
  },
  {
   "cell_type": "code",
   "execution_count": 12,
   "metadata": {},
   "outputs": [
    {
     "data": {
      "text/html": [
       "<p style='color:green; font-size:16px;'></br>El resultado de la decodificación coincide con la codificación de la palabra original</p>"
      ],
      "text/plain": [
       "<IPython.core.display.HTML object>"
      ]
     },
     "execution_count": 12,
     "metadata": {},
     "output_type": "execute_result"
    }
   ],
   "source": [
    "if c == c_decoded:\n",
    "    mensaje = \"<p style='color:green; font-size:16px;'></br>El resultado de la decodificación coincide con la codificación de la palabra original</p>\"\n",
    "else:\n",
    "    mensaje = \"<p style='color:red; font-size:16px;'></br>El resultado de la decodificación coincide no con la codificación de la palabra original</p>\"\n",
    "\n",
    "HTML(mensaje)"
   ]
  },
  {
   "cell_type": "code",
   "execution_count": 13,
   "metadata": {},
   "outputs": [
    {
     "data": {
      "text/html": [
       "<p style='color:green; font-size:16px;'></br>El mensaje decodificado coincide con el original</p>"
      ],
      "text/plain": [
       "<IPython.core.display.HTML object>"
      ]
     },
     "execution_count": 13,
     "metadata": {},
     "output_type": "execute_result"
    }
   ],
   "source": [
    "if message == message_decoded:\n",
    "    mensaje = \"<p style='color:green; font-size:16px;'></br>El mensaje decodificado coincide con el original</p>\"\n",
    "else:\n",
    "    mensaje = \"<p style='color:red; font-size:16px;'></br>El mensaje decodificado no coincide con el original</p>\"\n",
    "\n",
    "HTML(mensaje)"
   ]
  },
  {
   "cell_type": "markdown",
   "metadata": {},
   "source": [
    "### Algoritmo de Sugiyama\n",
    "Decodificamos con el algoritmo de Sugiyama y comprobamos si coincide con el mensaje original."
   ]
  },
  {
   "cell_type": "code",
   "execution_count": 14,
   "metadata": {
    "scrolled": false
   },
   "outputs": [
    {
     "name": "stdout",
     "output_type": "stream",
     "text": [
      "\n",
      "Decodificador BCH con el algoritmo de Sugiyama:\n",
      "Sugiyama decoder for [11, 6] BCH Code over GF(5) with designed distance 2\n",
      "\n",
      "Decodificacion de y:\n"
     ]
    },
    {
     "data": {
      "text/html": [
       "<html><script type=\"math/tex; mode=display\">\\newcommand{\\Bold}[1]{\\mathbf{#1}}\\left(0,\\,3,\\,2,\\,4,\\,1,\\,3,\\,1,\\,2,\\,0,\\,2,\\,4\\right)</script></html>"
      ],
      "text/plain": [
       "(0, 3, 2, 4, 1, 3, 1, 2, 0, 2, 4)"
      ]
     },
     "metadata": {},
     "output_type": "display_data"
    },
    {
     "name": "stdout",
     "output_type": "stream",
     "text": [
      "\n",
      "Mensaje decodificado de y:\n"
     ]
    },
    {
     "data": {
      "text/html": [
       "<html><script type=\"math/tex; mode=display\">\\newcommand{\\Bold}[1]{\\mathbf{#1}}\\left(0,\\,2,\\,4,\\,0,\\,1,\\,4\\right)</script></html>"
      ],
      "text/plain": [
       "(0, 2, 4, 0, 1, 4)"
      ]
     },
     "metadata": {},
     "output_type": "display_data"
    }
   ],
   "source": [
    "Decoder = BCHDecoderS(C)\n",
    "\n",
    "print(\"\\nDecodificador BCH con el algoritmo de Sugiyama:\")\n",
    "print(Decoder)\n",
    "\n",
    "print(\"\\nDecodificacion de y:\")\n",
    "c_decoded = Decoder.decode_to_code(y)\n",
    "show(c_decoded)\n",
    "\n",
    "print(\"\\nMensaje decodificado de y:\")\n",
    "message_decoded = Decoder.decode_to_message(y)\n",
    "show(message_decoded)"
   ]
  },
  {
   "cell_type": "code",
   "execution_count": 15,
   "metadata": {},
   "outputs": [
    {
     "data": {
      "text/html": [
       "<p style='color:green; font-size:16px;'></br>El resultado de la decodificación coincide con la codificación de la palabra original</p>"
      ],
      "text/plain": [
       "<IPython.core.display.HTML object>"
      ]
     },
     "execution_count": 15,
     "metadata": {},
     "output_type": "execute_result"
    }
   ],
   "source": [
    "if c == c_decoded:\n",
    "    mensaje = \"<p style='color:green; font-size:16px;'></br>El resultado de la decodificación coincide con la codificación de la palabra original</p>\"\n",
    "else:\n",
    "    mensaje = \"<p style='color:red; font-size:16px;'></br>El resultado de la decodificación coincide no con la codificación de la palabra original</p>\"\n",
    "\n",
    "HTML(mensaje)"
   ]
  },
  {
   "cell_type": "code",
   "execution_count": 16,
   "metadata": {},
   "outputs": [
    {
     "data": {
      "text/html": [
       "<p style='color:green; font-size:16px;'></br>El mensaje decodificado coincide con el original</p>"
      ],
      "text/plain": [
       "<IPython.core.display.HTML object>"
      ]
     },
     "execution_count": 16,
     "metadata": {},
     "output_type": "execute_result"
    }
   ],
   "source": [
    "if message == message_decoded:\n",
    "    mensaje = \"<p style='color:green; font-size:16px;'></br>El mensaje decodificado coincide con el original</p>\"\n",
    "else:\n",
    "    mensaje = \"<p style='color:red; font-size:16px;'></br>El mensaje decodificado no coincide con el original</p>\"\n",
    "\n",
    "HTML(mensaje)"
   ]
  },
  {
   "cell_type": "markdown",
   "metadata": {},
   "source": [
    "## Ejemplo 2"
   ]
  },
  {
   "cell_type": "markdown",
   "metadata": {},
   "source": [
    "### Generación del código y la palabra a codificar"
   ]
  },
  {
   "cell_type": "markdown",
   "metadata": {},
   "source": [
    "Creamos un código BCH sobre $\\mathbb{F}_{3^2}$, de longitud $13$ y distancia diseñada $5$:"
   ]
  },
  {
   "cell_type": "code",
   "execution_count": 17,
   "metadata": {},
   "outputs": [
    {
     "name": "stdout",
     "output_type": "stream",
     "text": [
      "Código BCH:\n",
      "[13, 4] BCH Code over GF(9) with designed distance 5\n",
      "\n",
      "Matriz de paridad:\n"
     ]
    },
    {
     "data": {
      "text/html": [
       "<html><script type=\"math/tex; mode=display\">\\newcommand{\\Bold}[1]{\\mathbf{#1}}\\left(\\begin{array}{rrrrrrrrrrrrr}\n",
       "1 & 2 & 2 & 0 & 1 & 0 & 0 & 0 & 0 & 0 & 0 & 0 & 0 \\\\\n",
       "0 & 1 & 2 & 2 & 0 & 1 & 0 & 0 & 0 & 0 & 0 & 0 & 0 \\\\\n",
       "0 & 0 & 1 & 2 & 2 & 0 & 1 & 0 & 0 & 0 & 0 & 0 & 0 \\\\\n",
       "0 & 0 & 0 & 1 & 2 & 2 & 0 & 1 & 0 & 0 & 0 & 0 & 0 \\\\\n",
       "0 & 0 & 0 & 0 & 1 & 2 & 2 & 0 & 1 & 0 & 0 & 0 & 0 \\\\\n",
       "0 & 0 & 0 & 0 & 0 & 1 & 2 & 2 & 0 & 1 & 0 & 0 & 0 \\\\\n",
       "0 & 0 & 0 & 0 & 0 & 0 & 1 & 2 & 2 & 0 & 1 & 0 & 0 \\\\\n",
       "0 & 0 & 0 & 0 & 0 & 0 & 0 & 1 & 2 & 2 & 0 & 1 & 0 \\\\\n",
       "0 & 0 & 0 & 0 & 0 & 0 & 0 & 0 & 1 & 2 & 2 & 0 & 1\n",
       "\\end{array}\\right)</script></html>"
      ],
      "text/plain": [
       "[1 2 2 0 1 0 0 0 0 0 0 0 0]\n",
       "[0 1 2 2 0 1 0 0 0 0 0 0 0]\n",
       "[0 0 1 2 2 0 1 0 0 0 0 0 0]\n",
       "[0 0 0 1 2 2 0 1 0 0 0 0 0]\n",
       "[0 0 0 0 1 2 2 0 1 0 0 0 0]\n",
       "[0 0 0 0 0 1 2 2 0 1 0 0 0]\n",
       "[0 0 0 0 0 0 1 2 2 0 1 0 0]\n",
       "[0 0 0 0 0 0 0 1 2 2 0 1 0]\n",
       "[0 0 0 0 0 0 0 0 1 2 2 0 1]"
      ]
     },
     "metadata": {},
     "output_type": "display_data"
    },
    {
     "name": "stdout",
     "output_type": "stream",
     "text": [
      "\n",
      "Matriz generadora:\n"
     ]
    },
    {
     "data": {
      "text/html": [
       "<html><script type=\"math/tex; mode=display\">\\newcommand{\\Bold}[1]{\\mathbf{#1}}\\left(\\begin{array}{rrrrrrrrrrrrr}\n",
       "2 & 0 & 2 & 2 & 0 & 1 & 0 & 2 & 1 & 1 & 0 & 0 & 0 \\\\\n",
       "0 & 2 & 0 & 2 & 2 & 0 & 1 & 0 & 2 & 1 & 1 & 0 & 0 \\\\\n",
       "0 & 0 & 2 & 0 & 2 & 2 & 0 & 1 & 0 & 2 & 1 & 1 & 0 \\\\\n",
       "0 & 0 & 0 & 2 & 0 & 2 & 2 & 0 & 1 & 0 & 2 & 1 & 1\n",
       "\\end{array}\\right)</script></html>"
      ],
      "text/plain": [
       "[2 0 2 2 0 1 0 2 1 1 0 0 0]\n",
       "[0 2 0 2 2 0 1 0 2 1 1 0 0]\n",
       "[0 0 2 0 2 2 0 1 0 2 1 1 0]\n",
       "[0 0 0 2 0 2 2 0 1 0 2 1 1]"
      ]
     },
     "metadata": {},
     "output_type": "display_data"
    },
    {
     "name": "stdout",
     "output_type": "stream",
     "text": [
      "\n",
      "Polinomio generador:\n"
     ]
    },
    {
     "data": {
      "text/html": [
       "<html><script type=\"math/tex; mode=display\">\\newcommand{\\Bold}[1]{\\mathbf{#1}}x^{9} + x^{8} + 2 x^{7} + x^{5} + 2 x^{3} + 2 x^{2} + 2</script></html>"
      ],
      "text/plain": [
       "x^9 + x^8 + 2*x^7 + x^5 + 2*x^3 + 2*x^2 + 2"
      ]
     },
     "metadata": {},
     "output_type": "display_data"
    }
   ],
   "source": [
    "q = 3^2\n",
    "F = GF(q)\n",
    "n = 13\n",
    "delta = 5\n",
    "C = BCHCode(F, n, delta, None)\n",
    "d = C.generator_matrix().nrows()\n",
    "\n",
    "print(\"Código BCH:\")\n",
    "print(C)\n",
    "\n",
    "print(\"\\nMatriz de paridad:\")\n",
    "show(C.parity_check_matrix())\n",
    "\n",
    "print(\"\\nMatriz generadora:\")\n",
    "show(C.generator_matrix())\n",
    "\n",
    "print(\"\\nPolinomio generador:\")\n",
    "show(CyclicCode(code = C).generator_polynomial())"
   ]
  },
  {
   "cell_type": "markdown",
   "metadata": {},
   "source": [
    "Generamos una palabra aleatoria de tamaño $n$ de elementos del cuerpo finito, $\\mathbb{F}_{3^2}$."
   ]
  },
  {
   "cell_type": "code",
   "execution_count": 18,
   "metadata": {
    "scrolled": true
   },
   "outputs": [
    {
     "name": "stdout",
     "output_type": "stream",
     "text": [
      "Codificador BCH:\n",
      "Encoder for [13, 4] BCH Code over GF(9) with designed distance 5\n",
      "\n",
      "Palabra para codificar:\n"
     ]
    },
    {
     "data": {
      "text/html": [
       "<html><script type=\"math/tex; mode=display\">\\newcommand{\\Bold}[1]{\\mathbf{#1}}\\left(z_{2} + 2,\\,z_{2} + 1,\\,1,\\,z_{2} + 2\\right)</script></html>"
      ],
      "text/plain": [
       "(z2 + 2, z2 + 1, 1, z2 + 2)"
      ]
     },
     "metadata": {},
     "output_type": "display_data"
    }
   ],
   "source": [
    "Encoder = BCHEncoder(C)\n",
    "\n",
    "print(\"Codificador BCH:\")\n",
    "print(Encoder)\n",
    "\n",
    "print(\"\\nPalabra para codificar:\")\n",
    "message = random_word(d, F)\n",
    "show(message)"
   ]
  },
  {
   "cell_type": "markdown",
   "metadata": {},
   "source": [
    "Codificamos la palabra."
   ]
  },
  {
   "cell_type": "code",
   "execution_count": 19,
   "metadata": {},
   "outputs": [
    {
     "name": "stdout",
     "output_type": "stream",
     "text": [
      "\n",
      "Palabra codificada:\n"
     ]
    },
    {
     "data": {
      "text/html": [
       "<html><script type=\"math/tex; mode=display\">\\newcommand{\\Bold}[1]{\\mathbf{#1}}\\left(2 z_{2} + 1,\\,2 z_{2} + 2,\\,2 z_{2},\\,1,\\,2 z_{2} + 1,\\,2,\\,2,\\,2 z_{2} + 2,\\,z_{2},\\,2 z_{2} + 2,\\,0,\\,z_{2},\\,z_{2} + 2\\right)</script></html>"
      ],
      "text/plain": [
       "(2*z2 + 1, 2*z2 + 2, 2*z2, 1, 2*z2 + 1, 2, 2, 2*z2 + 2, z2, 2*z2 + 2, 0, z2, z2 + 2)"
      ]
     },
     "metadata": {},
     "output_type": "display_data"
    }
   ],
   "source": [
    "print(\"\\nPalabra codificada:\")\n",
    "c = Encoder.encode(message)\n",
    "show(c)"
   ]
  },
  {
   "cell_type": "markdown",
   "metadata": {},
   "source": [
    "Generamos un vector de errores y se lo agregamos a la palabra codidicada."
   ]
  },
  {
   "cell_type": "code",
   "execution_count": 20,
   "metadata": {},
   "outputs": [
    {
     "name": "stdout",
     "output_type": "stream",
     "text": [
      "\n",
      "Vector de errores:\n"
     ]
    },
    {
     "data": {
      "text/html": [
       "<html><script type=\"math/tex; mode=display\">\\newcommand{\\Bold}[1]{\\mathbf{#1}}\\left(1,\\,2 z_{2} + 2,\\,0,\\,0,\\,0,\\,0,\\,0,\\,0,\\,0,\\,0,\\,0,\\,0,\\,0\\right)</script></html>"
      ],
      "text/plain": [
       "(1, 2*z2 + 2, 0, 0, 0, 0, 0, 0, 0, 0, 0, 0, 0)"
      ]
     },
     "metadata": {},
     "output_type": "display_data"
    },
    {
     "name": "stdout",
     "output_type": "stream",
     "text": [
      "\n",
      "Palabra codificada con errores (y = c + e):\n"
     ]
    },
    {
     "data": {
      "text/html": [
       "<html><script type=\"math/tex; mode=display\">\\newcommand{\\Bold}[1]{\\mathbf{#1}}\\left(2 z_{2} + 2,\\,z_{2} + 1,\\,2 z_{2},\\,1,\\,2 z_{2} + 1,\\,2,\\,2,\\,2 z_{2} + 2,\\,z_{2},\\,2 z_{2} + 2,\\,0,\\,z_{2},\\,z_{2} + 2\\right)</script></html>"
      ],
      "text/plain": [
       "(2*z2 + 2, z2 + 1, 2*z2, 1, 2*z2 + 1, 2, 2, 2*z2 + 2, z2, 2*z2 + 2, 0, z2, z2 + 2)"
      ]
     },
     "metadata": {},
     "output_type": "display_data"
    }
   ],
   "source": [
    "print(\"\\nVector de errores:\")\n",
    "n_errors = floor((delta-1)/2)\n",
    "e = random_error(len(c), n_errors, F)\n",
    "show(e)\n",
    "\n",
    "print(\"\\nPalabra codificada con errores (y = c + e):\")\n",
    "y = c + e\n",
    "show(y)"
   ]
  },
  {
   "cell_type": "markdown",
   "metadata": {},
   "source": [
    "### Algoritmo de Peterson-Gorenstein-Zieler\n",
    "Decodificamos con el algoritmo de Peterson-Gorenstein Zieler y comprobamos si coincide con el mensaje original."
   ]
  },
  {
   "cell_type": "code",
   "execution_count": 21,
   "metadata": {
    "scrolled": true
   },
   "outputs": [
    {
     "name": "stdout",
     "output_type": "stream",
     "text": [
      "\n",
      "Decodificador BCH con el algoritmo de Peterson-Gorenstein-Zieler:\n",
      "Peterson-Gorenstein-Zieler decoder for [13, 4] BCH Code over GF(9) with designed distance 5\n",
      "\n",
      "Decodificacion de y:\n"
     ]
    },
    {
     "data": {
      "text/html": [
       "<html><script type=\"math/tex; mode=display\">\\newcommand{\\Bold}[1]{\\mathbf{#1}}\\left(2 z_{2} + 1,\\,2 z_{2} + 2,\\,2 z_{2},\\,1,\\,2 z_{2} + 1,\\,2,\\,2,\\,2 z_{2} + 2,\\,z_{2},\\,2 z_{2} + 2,\\,0,\\,z_{2},\\,z_{2} + 2\\right)</script></html>"
      ],
      "text/plain": [
       "(2*z2 + 1, 2*z2 + 2, 2*z2, 1, 2*z2 + 1, 2, 2, 2*z2 + 2, z2, 2*z2 + 2, 0, z2, z2 + 2)"
      ]
     },
     "metadata": {},
     "output_type": "display_data"
    },
    {
     "name": "stdout",
     "output_type": "stream",
     "text": [
      "\n",
      "Mensaje decodificado de y:\n"
     ]
    },
    {
     "data": {
      "text/html": [
       "<html><script type=\"math/tex; mode=display\">\\newcommand{\\Bold}[1]{\\mathbf{#1}}\\left(z_{2} + 2,\\,z_{2} + 1,\\,1,\\,z_{2} + 2\\right)</script></html>"
      ],
      "text/plain": [
       "(z2 + 2, z2 + 1, 1, z2 + 2)"
      ]
     },
     "metadata": {},
     "output_type": "display_data"
    }
   ],
   "source": [
    "Decoder = BCHDecoderPGZ(C)\n",
    "\n",
    "print(\"\\nDecodificador BCH con el algoritmo de Peterson-Gorenstein-Zieler:\")\n",
    "print(Decoder)\n",
    "\n",
    "print(\"\\nDecodificacion de y:\")\n",
    "c_decoded = Decoder.decode_to_code(y)\n",
    "show(c_decoded)\n",
    "\n",
    "print(\"\\nMensaje decodificado de y:\")\n",
    "message_decoded = Decoder.decode_to_message(y)\n",
    "show(message_decoded)"
   ]
  },
  {
   "cell_type": "code",
   "execution_count": 22,
   "metadata": {},
   "outputs": [
    {
     "data": {
      "text/html": [
       "<p style='color:green; font-size:16px;'></br>El resultado de la decodificación coincide con la codificación de la palabra original</p>"
      ],
      "text/plain": [
       "<IPython.core.display.HTML object>"
      ]
     },
     "execution_count": 22,
     "metadata": {},
     "output_type": "execute_result"
    }
   ],
   "source": [
    "if c == c_decoded:\n",
    "    mensaje = \"<p style='color:green; font-size:16px;'></br>El resultado de la decodificación coincide con la codificación de la palabra original</p>\"\n",
    "else:\n",
    "    mensaje = \"<p style='color:red; font-size:16px;'></br>El resultado de la decodificación coincide no con la codificación de la palabra original</p>\"\n",
    "\n",
    "HTML(mensaje)"
   ]
  },
  {
   "cell_type": "code",
   "execution_count": 23,
   "metadata": {},
   "outputs": [
    {
     "data": {
      "text/html": [
       "<p style='color:green; font-size:16px;'></br>El mensaje decodificado coincide con el original</p>"
      ],
      "text/plain": [
       "<IPython.core.display.HTML object>"
      ]
     },
     "execution_count": 23,
     "metadata": {},
     "output_type": "execute_result"
    }
   ],
   "source": [
    "if message == message_decoded:\n",
    "    mensaje = \"<p style='color:green; font-size:16px;'></br>El mensaje decodificado coincide con el original</p>\"\n",
    "else:\n",
    "    mensaje = \"<p style='color:red; font-size:16px;'></br>El mensaje decodificado no coincide con el original</p>\"\n",
    "\n",
    "HTML(mensaje)"
   ]
  },
  {
   "cell_type": "markdown",
   "metadata": {},
   "source": [
    "### Algoritmo de Sugiyama\n",
    "Decodificamos con el algoritmo de Sugiyama y comprobamos si coincide con el mensaje original."
   ]
  },
  {
   "cell_type": "code",
   "execution_count": 24,
   "metadata": {
    "scrolled": false
   },
   "outputs": [
    {
     "name": "stdout",
     "output_type": "stream",
     "text": [
      "\n",
      "Decodificador BCH con el algoritmo de Sugiyama:\n",
      "Sugiyama decoder for [13, 4] BCH Code over GF(9) with designed distance 5\n",
      "\n",
      "Decodificacion de y:\n"
     ]
    },
    {
     "data": {
      "text/html": [
       "<html><script type=\"math/tex; mode=display\">\\newcommand{\\Bold}[1]{\\mathbf{#1}}\\left(2 z_{2} + 1,\\,2 z_{2} + 2,\\,2 z_{2},\\,1,\\,2 z_{2} + 1,\\,2,\\,2,\\,2 z_{2} + 2,\\,z_{2},\\,2 z_{2} + 2,\\,0,\\,z_{2},\\,z_{2} + 2\\right)</script></html>"
      ],
      "text/plain": [
       "(2*z2 + 1, 2*z2 + 2, 2*z2, 1, 2*z2 + 1, 2, 2, 2*z2 + 2, z2, 2*z2 + 2, 0, z2, z2 + 2)"
      ]
     },
     "metadata": {},
     "output_type": "display_data"
    },
    {
     "name": "stdout",
     "output_type": "stream",
     "text": [
      "\n",
      "Mensaje decodificado de y:\n"
     ]
    },
    {
     "data": {
      "text/html": [
       "<html><script type=\"math/tex; mode=display\">\\newcommand{\\Bold}[1]{\\mathbf{#1}}\\left(z_{2} + 2,\\,z_{2} + 1,\\,1,\\,z_{2} + 2\\right)</script></html>"
      ],
      "text/plain": [
       "(z2 + 2, z2 + 1, 1, z2 + 2)"
      ]
     },
     "metadata": {},
     "output_type": "display_data"
    }
   ],
   "source": [
    "Decoder = BCHDecoderS(C)\n",
    "\n",
    "print(\"\\nDecodificador BCH con el algoritmo de Sugiyama:\")\n",
    "print(Decoder)\n",
    "\n",
    "print(\"\\nDecodificacion de y:\")\n",
    "c_decoded = Decoder.decode_to_code(y)\n",
    "show(c_decoded)\n",
    "\n",
    "print(\"\\nMensaje decodificado de y:\")\n",
    "message_decoded = Decoder.decode_to_message(y)\n",
    "show(message_decoded)"
   ]
  },
  {
   "cell_type": "code",
   "execution_count": 25,
   "metadata": {},
   "outputs": [
    {
     "data": {
      "text/html": [
       "<p style='color:green; font-size:16px;'></br>El resultado de la decodificación coincide con la codificación de la palabra original</p>"
      ],
      "text/plain": [
       "<IPython.core.display.HTML object>"
      ]
     },
     "execution_count": 25,
     "metadata": {},
     "output_type": "execute_result"
    }
   ],
   "source": [
    "if c == c_decoded:\n",
    "    mensaje = \"<p style='color:green; font-size:16px;'></br>El resultado de la decodificación coincide con la codificación de la palabra original</p>\"\n",
    "else:\n",
    "    mensaje = \"<p style='color:red; font-size:16px;'></br>El resultado de la decodificación coincide no con la codificación de la palabra original</p>\"\n",
    "\n",
    "HTML(mensaje)"
   ]
  },
  {
   "cell_type": "code",
   "execution_count": 26,
   "metadata": {},
   "outputs": [
    {
     "data": {
      "text/html": [
       "<p style='color:green; font-size:16px;'></br>El mensaje decodificado coincide con el original</p>"
      ],
      "text/plain": [
       "<IPython.core.display.HTML object>"
      ]
     },
     "execution_count": 26,
     "metadata": {},
     "output_type": "execute_result"
    }
   ],
   "source": [
    "if message == message_decoded:\n",
    "    mensaje = \"<p style='color:green; font-size:16px;'></br>El mensaje decodificado coincide con el original</p>\"\n",
    "else:\n",
    "    mensaje = \"<p style='color:red; font-size:16px;'></br>El mensaje decodificado no coincide con el original</p>\"\n",
    "\n",
    "HTML(mensaje)"
   ]
  },
  {
   "cell_type": "markdown",
   "metadata": {},
   "source": [
    "## Ejemplo 3"
   ]
  },
  {
   "cell_type": "markdown",
   "metadata": {},
   "source": [
    "### Generación del código y la palabra a codificar"
   ]
  },
  {
   "cell_type": "markdown",
   "metadata": {},
   "source": [
    "Creamos un código BCH sobre $\\mathbb{F}_{3}$, de longitud $64$ y distancia diseñada $11$:"
   ]
  },
  {
   "cell_type": "code",
   "execution_count": 27,
   "metadata": {},
   "outputs": [
    {
     "name": "stdout",
     "output_type": "stream",
     "text": [
      "Código BCH:\n",
      "[64, 10] BCH Code over GF(3) with designed distance 11\n",
      "\n",
      "Matriz de paridad:\n"
     ]
    },
    {
     "data": {
      "text/html": [
       "<html><script type=\"math/tex; mode=display\">\\newcommand{\\Bold}[1]{\\mathbf{#1}}\\left(\\begin{array}{rrrrrrrrrrrrrrrrrrrrrrrrrrrrrrrrrrrrrrrrrrrrrrrrrrrrrrrrrrrrrrrr}\n",
       "1 & 1 & 0 & 1 & 0 & 1 & 1 & 2 & 2 & 1 & 2 & 0 & 0 & 0 & 0 & 0 & 0 & 0 & 0 & 0 & 0 & 0 & 0 & 0 & 0 & 0 & 0 & 0 & 0 & 0 & 0 & 0 & 0 & 0 & 0 & 0 & 0 & 0 & 0 & 0 & 0 & 0 & 0 & 0 & 0 & 0 & 0 & 0 & 0 & 0 & 0 & 0 & 0 & 0 & 0 & 0 & 0 & 0 & 0 & 0 & 0 & 0 & 0 & 0 \\\\\n",
       "0 & 1 & 1 & 0 & 1 & 0 & 1 & 1 & 2 & 2 & 1 & 2 & 0 & 0 & 0 & 0 & 0 & 0 & 0 & 0 & 0 & 0 & 0 & 0 & 0 & 0 & 0 & 0 & 0 & 0 & 0 & 0 & 0 & 0 & 0 & 0 & 0 & 0 & 0 & 0 & 0 & 0 & 0 & 0 & 0 & 0 & 0 & 0 & 0 & 0 & 0 & 0 & 0 & 0 & 0 & 0 & 0 & 0 & 0 & 0 & 0 & 0 & 0 & 0 \\\\\n",
       "0 & 0 & 1 & 1 & 0 & 1 & 0 & 1 & 1 & 2 & 2 & 1 & 2 & 0 & 0 & 0 & 0 & 0 & 0 & 0 & 0 & 0 & 0 & 0 & 0 & 0 & 0 & 0 & 0 & 0 & 0 & 0 & 0 & 0 & 0 & 0 & 0 & 0 & 0 & 0 & 0 & 0 & 0 & 0 & 0 & 0 & 0 & 0 & 0 & 0 & 0 & 0 & 0 & 0 & 0 & 0 & 0 & 0 & 0 & 0 & 0 & 0 & 0 & 0 \\\\\n",
       "0 & 0 & 0 & 1 & 1 & 0 & 1 & 0 & 1 & 1 & 2 & 2 & 1 & 2 & 0 & 0 & 0 & 0 & 0 & 0 & 0 & 0 & 0 & 0 & 0 & 0 & 0 & 0 & 0 & 0 & 0 & 0 & 0 & 0 & 0 & 0 & 0 & 0 & 0 & 0 & 0 & 0 & 0 & 0 & 0 & 0 & 0 & 0 & 0 & 0 & 0 & 0 & 0 & 0 & 0 & 0 & 0 & 0 & 0 & 0 & 0 & 0 & 0 & 0 \\\\\n",
       "0 & 0 & 0 & 0 & 1 & 1 & 0 & 1 & 0 & 1 & 1 & 2 & 2 & 1 & 2 & 0 & 0 & 0 & 0 & 0 & 0 & 0 & 0 & 0 & 0 & 0 & 0 & 0 & 0 & 0 & 0 & 0 & 0 & 0 & 0 & 0 & 0 & 0 & 0 & 0 & 0 & 0 & 0 & 0 & 0 & 0 & 0 & 0 & 0 & 0 & 0 & 0 & 0 & 0 & 0 & 0 & 0 & 0 & 0 & 0 & 0 & 0 & 0 & 0 \\\\\n",
       "0 & 0 & 0 & 0 & 0 & 1 & 1 & 0 & 1 & 0 & 1 & 1 & 2 & 2 & 1 & 2 & 0 & 0 & 0 & 0 & 0 & 0 & 0 & 0 & 0 & 0 & 0 & 0 & 0 & 0 & 0 & 0 & 0 & 0 & 0 & 0 & 0 & 0 & 0 & 0 & 0 & 0 & 0 & 0 & 0 & 0 & 0 & 0 & 0 & 0 & 0 & 0 & 0 & 0 & 0 & 0 & 0 & 0 & 0 & 0 & 0 & 0 & 0 & 0 \\\\\n",
       "0 & 0 & 0 & 0 & 0 & 0 & 1 & 1 & 0 & 1 & 0 & 1 & 1 & 2 & 2 & 1 & 2 & 0 & 0 & 0 & 0 & 0 & 0 & 0 & 0 & 0 & 0 & 0 & 0 & 0 & 0 & 0 & 0 & 0 & 0 & 0 & 0 & 0 & 0 & 0 & 0 & 0 & 0 & 0 & 0 & 0 & 0 & 0 & 0 & 0 & 0 & 0 & 0 & 0 & 0 & 0 & 0 & 0 & 0 & 0 & 0 & 0 & 0 & 0 \\\\\n",
       "0 & 0 & 0 & 0 & 0 & 0 & 0 & 1 & 1 & 0 & 1 & 0 & 1 & 1 & 2 & 2 & 1 & 2 & 0 & 0 & 0 & 0 & 0 & 0 & 0 & 0 & 0 & 0 & 0 & 0 & 0 & 0 & 0 & 0 & 0 & 0 & 0 & 0 & 0 & 0 & 0 & 0 & 0 & 0 & 0 & 0 & 0 & 0 & 0 & 0 & 0 & 0 & 0 & 0 & 0 & 0 & 0 & 0 & 0 & 0 & 0 & 0 & 0 & 0 \\\\\n",
       "0 & 0 & 0 & 0 & 0 & 0 & 0 & 0 & 1 & 1 & 0 & 1 & 0 & 1 & 1 & 2 & 2 & 1 & 2 & 0 & 0 & 0 & 0 & 0 & 0 & 0 & 0 & 0 & 0 & 0 & 0 & 0 & 0 & 0 & 0 & 0 & 0 & 0 & 0 & 0 & 0 & 0 & 0 & 0 & 0 & 0 & 0 & 0 & 0 & 0 & 0 & 0 & 0 & 0 & 0 & 0 & 0 & 0 & 0 & 0 & 0 & 0 & 0 & 0 \\\\\n",
       "0 & 0 & 0 & 0 & 0 & 0 & 0 & 0 & 0 & 1 & 1 & 0 & 1 & 0 & 1 & 1 & 2 & 2 & 1 & 2 & 0 & 0 & 0 & 0 & 0 & 0 & 0 & 0 & 0 & 0 & 0 & 0 & 0 & 0 & 0 & 0 & 0 & 0 & 0 & 0 & 0 & 0 & 0 & 0 & 0 & 0 & 0 & 0 & 0 & 0 & 0 & 0 & 0 & 0 & 0 & 0 & 0 & 0 & 0 & 0 & 0 & 0 & 0 & 0 \\\\\n",
       "0 & 0 & 0 & 0 & 0 & 0 & 0 & 0 & 0 & 0 & 1 & 1 & 0 & 1 & 0 & 1 & 1 & 2 & 2 & 1 & 2 & 0 & 0 & 0 & 0 & 0 & 0 & 0 & 0 & 0 & 0 & 0 & 0 & 0 & 0 & 0 & 0 & 0 & 0 & 0 & 0 & 0 & 0 & 0 & 0 & 0 & 0 & 0 & 0 & 0 & 0 & 0 & 0 & 0 & 0 & 0 & 0 & 0 & 0 & 0 & 0 & 0 & 0 & 0 \\\\\n",
       "0 & 0 & 0 & 0 & 0 & 0 & 0 & 0 & 0 & 0 & 0 & 1 & 1 & 0 & 1 & 0 & 1 & 1 & 2 & 2 & 1 & 2 & 0 & 0 & 0 & 0 & 0 & 0 & 0 & 0 & 0 & 0 & 0 & 0 & 0 & 0 & 0 & 0 & 0 & 0 & 0 & 0 & 0 & 0 & 0 & 0 & 0 & 0 & 0 & 0 & 0 & 0 & 0 & 0 & 0 & 0 & 0 & 0 & 0 & 0 & 0 & 0 & 0 & 0 \\\\\n",
       "0 & 0 & 0 & 0 & 0 & 0 & 0 & 0 & 0 & 0 & 0 & 0 & 1 & 1 & 0 & 1 & 0 & 1 & 1 & 2 & 2 & 1 & 2 & 0 & 0 & 0 & 0 & 0 & 0 & 0 & 0 & 0 & 0 & 0 & 0 & 0 & 0 & 0 & 0 & 0 & 0 & 0 & 0 & 0 & 0 & 0 & 0 & 0 & 0 & 0 & 0 & 0 & 0 & 0 & 0 & 0 & 0 & 0 & 0 & 0 & 0 & 0 & 0 & 0 \\\\\n",
       "0 & 0 & 0 & 0 & 0 & 0 & 0 & 0 & 0 & 0 & 0 & 0 & 0 & 1 & 1 & 0 & 1 & 0 & 1 & 1 & 2 & 2 & 1 & 2 & 0 & 0 & 0 & 0 & 0 & 0 & 0 & 0 & 0 & 0 & 0 & 0 & 0 & 0 & 0 & 0 & 0 & 0 & 0 & 0 & 0 & 0 & 0 & 0 & 0 & 0 & 0 & 0 & 0 & 0 & 0 & 0 & 0 & 0 & 0 & 0 & 0 & 0 & 0 & 0 \\\\\n",
       "0 & 0 & 0 & 0 & 0 & 0 & 0 & 0 & 0 & 0 & 0 & 0 & 0 & 0 & 1 & 1 & 0 & 1 & 0 & 1 & 1 & 2 & 2 & 1 & 2 & 0 & 0 & 0 & 0 & 0 & 0 & 0 & 0 & 0 & 0 & 0 & 0 & 0 & 0 & 0 & 0 & 0 & 0 & 0 & 0 & 0 & 0 & 0 & 0 & 0 & 0 & 0 & 0 & 0 & 0 & 0 & 0 & 0 & 0 & 0 & 0 & 0 & 0 & 0 \\\\\n",
       "0 & 0 & 0 & 0 & 0 & 0 & 0 & 0 & 0 & 0 & 0 & 0 & 0 & 0 & 0 & 1 & 1 & 0 & 1 & 0 & 1 & 1 & 2 & 2 & 1 & 2 & 0 & 0 & 0 & 0 & 0 & 0 & 0 & 0 & 0 & 0 & 0 & 0 & 0 & 0 & 0 & 0 & 0 & 0 & 0 & 0 & 0 & 0 & 0 & 0 & 0 & 0 & 0 & 0 & 0 & 0 & 0 & 0 & 0 & 0 & 0 & 0 & 0 & 0 \\\\\n",
       "0 & 0 & 0 & 0 & 0 & 0 & 0 & 0 & 0 & 0 & 0 & 0 & 0 & 0 & 0 & 0 & 1 & 1 & 0 & 1 & 0 & 1 & 1 & 2 & 2 & 1 & 2 & 0 & 0 & 0 & 0 & 0 & 0 & 0 & 0 & 0 & 0 & 0 & 0 & 0 & 0 & 0 & 0 & 0 & 0 & 0 & 0 & 0 & 0 & 0 & 0 & 0 & 0 & 0 & 0 & 0 & 0 & 0 & 0 & 0 & 0 & 0 & 0 & 0 \\\\\n",
       "0 & 0 & 0 & 0 & 0 & 0 & 0 & 0 & 0 & 0 & 0 & 0 & 0 & 0 & 0 & 0 & 0 & 1 & 1 & 0 & 1 & 0 & 1 & 1 & 2 & 2 & 1 & 2 & 0 & 0 & 0 & 0 & 0 & 0 & 0 & 0 & 0 & 0 & 0 & 0 & 0 & 0 & 0 & 0 & 0 & 0 & 0 & 0 & 0 & 0 & 0 & 0 & 0 & 0 & 0 & 0 & 0 & 0 & 0 & 0 & 0 & 0 & 0 & 0 \\\\\n",
       "0 & 0 & 0 & 0 & 0 & 0 & 0 & 0 & 0 & 0 & 0 & 0 & 0 & 0 & 0 & 0 & 0 & 0 & 1 & 1 & 0 & 1 & 0 & 1 & 1 & 2 & 2 & 1 & 2 & 0 & 0 & 0 & 0 & 0 & 0 & 0 & 0 & 0 & 0 & 0 & 0 & 0 & 0 & 0 & 0 & 0 & 0 & 0 & 0 & 0 & 0 & 0 & 0 & 0 & 0 & 0 & 0 & 0 & 0 & 0 & 0 & 0 & 0 & 0 \\\\\n",
       "0 & 0 & 0 & 0 & 0 & 0 & 0 & 0 & 0 & 0 & 0 & 0 & 0 & 0 & 0 & 0 & 0 & 0 & 0 & 1 & 1 & 0 & 1 & 0 & 1 & 1 & 2 & 2 & 1 & 2 & 0 & 0 & 0 & 0 & 0 & 0 & 0 & 0 & 0 & 0 & 0 & 0 & 0 & 0 & 0 & 0 & 0 & 0 & 0 & 0 & 0 & 0 & 0 & 0 & 0 & 0 & 0 & 0 & 0 & 0 & 0 & 0 & 0 & 0 \\\\\n",
       "0 & 0 & 0 & 0 & 0 & 0 & 0 & 0 & 0 & 0 & 0 & 0 & 0 & 0 & 0 & 0 & 0 & 0 & 0 & 0 & 1 & 1 & 0 & 1 & 0 & 1 & 1 & 2 & 2 & 1 & 2 & 0 & 0 & 0 & 0 & 0 & 0 & 0 & 0 & 0 & 0 & 0 & 0 & 0 & 0 & 0 & 0 & 0 & 0 & 0 & 0 & 0 & 0 & 0 & 0 & 0 & 0 & 0 & 0 & 0 & 0 & 0 & 0 & 0 \\\\\n",
       "0 & 0 & 0 & 0 & 0 & 0 & 0 & 0 & 0 & 0 & 0 & 0 & 0 & 0 & 0 & 0 & 0 & 0 & 0 & 0 & 0 & 1 & 1 & 0 & 1 & 0 & 1 & 1 & 2 & 2 & 1 & 2 & 0 & 0 & 0 & 0 & 0 & 0 & 0 & 0 & 0 & 0 & 0 & 0 & 0 & 0 & 0 & 0 & 0 & 0 & 0 & 0 & 0 & 0 & 0 & 0 & 0 & 0 & 0 & 0 & 0 & 0 & 0 & 0 \\\\\n",
       "0 & 0 & 0 & 0 & 0 & 0 & 0 & 0 & 0 & 0 & 0 & 0 & 0 & 0 & 0 & 0 & 0 & 0 & 0 & 0 & 0 & 0 & 1 & 1 & 0 & 1 & 0 & 1 & 1 & 2 & 2 & 1 & 2 & 0 & 0 & 0 & 0 & 0 & 0 & 0 & 0 & 0 & 0 & 0 & 0 & 0 & 0 & 0 & 0 & 0 & 0 & 0 & 0 & 0 & 0 & 0 & 0 & 0 & 0 & 0 & 0 & 0 & 0 & 0 \\\\\n",
       "0 & 0 & 0 & 0 & 0 & 0 & 0 & 0 & 0 & 0 & 0 & 0 & 0 & 0 & 0 & 0 & 0 & 0 & 0 & 0 & 0 & 0 & 0 & 1 & 1 & 0 & 1 & 0 & 1 & 1 & 2 & 2 & 1 & 2 & 0 & 0 & 0 & 0 & 0 & 0 & 0 & 0 & 0 & 0 & 0 & 0 & 0 & 0 & 0 & 0 & 0 & 0 & 0 & 0 & 0 & 0 & 0 & 0 & 0 & 0 & 0 & 0 & 0 & 0 \\\\\n",
       "0 & 0 & 0 & 0 & 0 & 0 & 0 & 0 & 0 & 0 & 0 & 0 & 0 & 0 & 0 & 0 & 0 & 0 & 0 & 0 & 0 & 0 & 0 & 0 & 1 & 1 & 0 & 1 & 0 & 1 & 1 & 2 & 2 & 1 & 2 & 0 & 0 & 0 & 0 & 0 & 0 & 0 & 0 & 0 & 0 & 0 & 0 & 0 & 0 & 0 & 0 & 0 & 0 & 0 & 0 & 0 & 0 & 0 & 0 & 0 & 0 & 0 & 0 & 0 \\\\\n",
       "0 & 0 & 0 & 0 & 0 & 0 & 0 & 0 & 0 & 0 & 0 & 0 & 0 & 0 & 0 & 0 & 0 & 0 & 0 & 0 & 0 & 0 & 0 & 0 & 0 & 1 & 1 & 0 & 1 & 0 & 1 & 1 & 2 & 2 & 1 & 2 & 0 & 0 & 0 & 0 & 0 & 0 & 0 & 0 & 0 & 0 & 0 & 0 & 0 & 0 & 0 & 0 & 0 & 0 & 0 & 0 & 0 & 0 & 0 & 0 & 0 & 0 & 0 & 0 \\\\\n",
       "0 & 0 & 0 & 0 & 0 & 0 & 0 & 0 & 0 & 0 & 0 & 0 & 0 & 0 & 0 & 0 & 0 & 0 & 0 & 0 & 0 & 0 & 0 & 0 & 0 & 0 & 1 & 1 & 0 & 1 & 0 & 1 & 1 & 2 & 2 & 1 & 2 & 0 & 0 & 0 & 0 & 0 & 0 & 0 & 0 & 0 & 0 & 0 & 0 & 0 & 0 & 0 & 0 & 0 & 0 & 0 & 0 & 0 & 0 & 0 & 0 & 0 & 0 & 0 \\\\\n",
       "0 & 0 & 0 & 0 & 0 & 0 & 0 & 0 & 0 & 0 & 0 & 0 & 0 & 0 & 0 & 0 & 0 & 0 & 0 & 0 & 0 & 0 & 0 & 0 & 0 & 0 & 0 & 1 & 1 & 0 & 1 & 0 & 1 & 1 & 2 & 2 & 1 & 2 & 0 & 0 & 0 & 0 & 0 & 0 & 0 & 0 & 0 & 0 & 0 & 0 & 0 & 0 & 0 & 0 & 0 & 0 & 0 & 0 & 0 & 0 & 0 & 0 & 0 & 0 \\\\\n",
       "0 & 0 & 0 & 0 & 0 & 0 & 0 & 0 & 0 & 0 & 0 & 0 & 0 & 0 & 0 & 0 & 0 & 0 & 0 & 0 & 0 & 0 & 0 & 0 & 0 & 0 & 0 & 0 & 1 & 1 & 0 & 1 & 0 & 1 & 1 & 2 & 2 & 1 & 2 & 0 & 0 & 0 & 0 & 0 & 0 & 0 & 0 & 0 & 0 & 0 & 0 & 0 & 0 & 0 & 0 & 0 & 0 & 0 & 0 & 0 & 0 & 0 & 0 & 0 \\\\\n",
       "0 & 0 & 0 & 0 & 0 & 0 & 0 & 0 & 0 & 0 & 0 & 0 & 0 & 0 & 0 & 0 & 0 & 0 & 0 & 0 & 0 & 0 & 0 & 0 & 0 & 0 & 0 & 0 & 0 & 1 & 1 & 0 & 1 & 0 & 1 & 1 & 2 & 2 & 1 & 2 & 0 & 0 & 0 & 0 & 0 & 0 & 0 & 0 & 0 & 0 & 0 & 0 & 0 & 0 & 0 & 0 & 0 & 0 & 0 & 0 & 0 & 0 & 0 & 0 \\\\\n",
       "0 & 0 & 0 & 0 & 0 & 0 & 0 & 0 & 0 & 0 & 0 & 0 & 0 & 0 & 0 & 0 & 0 & 0 & 0 & 0 & 0 & 0 & 0 & 0 & 0 & 0 & 0 & 0 & 0 & 0 & 1 & 1 & 0 & 1 & 0 & 1 & 1 & 2 & 2 & 1 & 2 & 0 & 0 & 0 & 0 & 0 & 0 & 0 & 0 & 0 & 0 & 0 & 0 & 0 & 0 & 0 & 0 & 0 & 0 & 0 & 0 & 0 & 0 & 0 \\\\\n",
       "0 & 0 & 0 & 0 & 0 & 0 & 0 & 0 & 0 & 0 & 0 & 0 & 0 & 0 & 0 & 0 & 0 & 0 & 0 & 0 & 0 & 0 & 0 & 0 & 0 & 0 & 0 & 0 & 0 & 0 & 0 & 1 & 1 & 0 & 1 & 0 & 1 & 1 & 2 & 2 & 1 & 2 & 0 & 0 & 0 & 0 & 0 & 0 & 0 & 0 & 0 & 0 & 0 & 0 & 0 & 0 & 0 & 0 & 0 & 0 & 0 & 0 & 0 & 0 \\\\\n",
       "0 & 0 & 0 & 0 & 0 & 0 & 0 & 0 & 0 & 0 & 0 & 0 & 0 & 0 & 0 & 0 & 0 & 0 & 0 & 0 & 0 & 0 & 0 & 0 & 0 & 0 & 0 & 0 & 0 & 0 & 0 & 0 & 1 & 1 & 0 & 1 & 0 & 1 & 1 & 2 & 2 & 1 & 2 & 0 & 0 & 0 & 0 & 0 & 0 & 0 & 0 & 0 & 0 & 0 & 0 & 0 & 0 & 0 & 0 & 0 & 0 & 0 & 0 & 0 \\\\\n",
       "0 & 0 & 0 & 0 & 0 & 0 & 0 & 0 & 0 & 0 & 0 & 0 & 0 & 0 & 0 & 0 & 0 & 0 & 0 & 0 & 0 & 0 & 0 & 0 & 0 & 0 & 0 & 0 & 0 & 0 & 0 & 0 & 0 & 1 & 1 & 0 & 1 & 0 & 1 & 1 & 2 & 2 & 1 & 2 & 0 & 0 & 0 & 0 & 0 & 0 & 0 & 0 & 0 & 0 & 0 & 0 & 0 & 0 & 0 & 0 & 0 & 0 & 0 & 0 \\\\\n",
       "0 & 0 & 0 & 0 & 0 & 0 & 0 & 0 & 0 & 0 & 0 & 0 & 0 & 0 & 0 & 0 & 0 & 0 & 0 & 0 & 0 & 0 & 0 & 0 & 0 & 0 & 0 & 0 & 0 & 0 & 0 & 0 & 0 & 0 & 1 & 1 & 0 & 1 & 0 & 1 & 1 & 2 & 2 & 1 & 2 & 0 & 0 & 0 & 0 & 0 & 0 & 0 & 0 & 0 & 0 & 0 & 0 & 0 & 0 & 0 & 0 & 0 & 0 & 0 \\\\\n",
       "0 & 0 & 0 & 0 & 0 & 0 & 0 & 0 & 0 & 0 & 0 & 0 & 0 & 0 & 0 & 0 & 0 & 0 & 0 & 0 & 0 & 0 & 0 & 0 & 0 & 0 & 0 & 0 & 0 & 0 & 0 & 0 & 0 & 0 & 0 & 1 & 1 & 0 & 1 & 0 & 1 & 1 & 2 & 2 & 1 & 2 & 0 & 0 & 0 & 0 & 0 & 0 & 0 & 0 & 0 & 0 & 0 & 0 & 0 & 0 & 0 & 0 & 0 & 0 \\\\\n",
       "0 & 0 & 0 & 0 & 0 & 0 & 0 & 0 & 0 & 0 & 0 & 0 & 0 & 0 & 0 & 0 & 0 & 0 & 0 & 0 & 0 & 0 & 0 & 0 & 0 & 0 & 0 & 0 & 0 & 0 & 0 & 0 & 0 & 0 & 0 & 0 & 1 & 1 & 0 & 1 & 0 & 1 & 1 & 2 & 2 & 1 & 2 & 0 & 0 & 0 & 0 & 0 & 0 & 0 & 0 & 0 & 0 & 0 & 0 & 0 & 0 & 0 & 0 & 0 \\\\\n",
       "0 & 0 & 0 & 0 & 0 & 0 & 0 & 0 & 0 & 0 & 0 & 0 & 0 & 0 & 0 & 0 & 0 & 0 & 0 & 0 & 0 & 0 & 0 & 0 & 0 & 0 & 0 & 0 & 0 & 0 & 0 & 0 & 0 & 0 & 0 & 0 & 0 & 1 & 1 & 0 & 1 & 0 & 1 & 1 & 2 & 2 & 1 & 2 & 0 & 0 & 0 & 0 & 0 & 0 & 0 & 0 & 0 & 0 & 0 & 0 & 0 & 0 & 0 & 0 \\\\\n",
       "0 & 0 & 0 & 0 & 0 & 0 & 0 & 0 & 0 & 0 & 0 & 0 & 0 & 0 & 0 & 0 & 0 & 0 & 0 & 0 & 0 & 0 & 0 & 0 & 0 & 0 & 0 & 0 & 0 & 0 & 0 & 0 & 0 & 0 & 0 & 0 & 0 & 0 & 1 & 1 & 0 & 1 & 0 & 1 & 1 & 2 & 2 & 1 & 2 & 0 & 0 & 0 & 0 & 0 & 0 & 0 & 0 & 0 & 0 & 0 & 0 & 0 & 0 & 0 \\\\\n",
       "0 & 0 & 0 & 0 & 0 & 0 & 0 & 0 & 0 & 0 & 0 & 0 & 0 & 0 & 0 & 0 & 0 & 0 & 0 & 0 & 0 & 0 & 0 & 0 & 0 & 0 & 0 & 0 & 0 & 0 & 0 & 0 & 0 & 0 & 0 & 0 & 0 & 0 & 0 & 1 & 1 & 0 & 1 & 0 & 1 & 1 & 2 & 2 & 1 & 2 & 0 & 0 & 0 & 0 & 0 & 0 & 0 & 0 & 0 & 0 & 0 & 0 & 0 & 0 \\\\\n",
       "0 & 0 & 0 & 0 & 0 & 0 & 0 & 0 & 0 & 0 & 0 & 0 & 0 & 0 & 0 & 0 & 0 & 0 & 0 & 0 & 0 & 0 & 0 & 0 & 0 & 0 & 0 & 0 & 0 & 0 & 0 & 0 & 0 & 0 & 0 & 0 & 0 & 0 & 0 & 0 & 1 & 1 & 0 & 1 & 0 & 1 & 1 & 2 & 2 & 1 & 2 & 0 & 0 & 0 & 0 & 0 & 0 & 0 & 0 & 0 & 0 & 0 & 0 & 0 \\\\\n",
       "0 & 0 & 0 & 0 & 0 & 0 & 0 & 0 & 0 & 0 & 0 & 0 & 0 & 0 & 0 & 0 & 0 & 0 & 0 & 0 & 0 & 0 & 0 & 0 & 0 & 0 & 0 & 0 & 0 & 0 & 0 & 0 & 0 & 0 & 0 & 0 & 0 & 0 & 0 & 0 & 0 & 1 & 1 & 0 & 1 & 0 & 1 & 1 & 2 & 2 & 1 & 2 & 0 & 0 & 0 & 0 & 0 & 0 & 0 & 0 & 0 & 0 & 0 & 0 \\\\\n",
       "0 & 0 & 0 & 0 & 0 & 0 & 0 & 0 & 0 & 0 & 0 & 0 & 0 & 0 & 0 & 0 & 0 & 0 & 0 & 0 & 0 & 0 & 0 & 0 & 0 & 0 & 0 & 0 & 0 & 0 & 0 & 0 & 0 & 0 & 0 & 0 & 0 & 0 & 0 & 0 & 0 & 0 & 1 & 1 & 0 & 1 & 0 & 1 & 1 & 2 & 2 & 1 & 2 & 0 & 0 & 0 & 0 & 0 & 0 & 0 & 0 & 0 & 0 & 0 \\\\\n",
       "0 & 0 & 0 & 0 & 0 & 0 & 0 & 0 & 0 & 0 & 0 & 0 & 0 & 0 & 0 & 0 & 0 & 0 & 0 & 0 & 0 & 0 & 0 & 0 & 0 & 0 & 0 & 0 & 0 & 0 & 0 & 0 & 0 & 0 & 0 & 0 & 0 & 0 & 0 & 0 & 0 & 0 & 0 & 1 & 1 & 0 & 1 & 0 & 1 & 1 & 2 & 2 & 1 & 2 & 0 & 0 & 0 & 0 & 0 & 0 & 0 & 0 & 0 & 0 \\\\\n",
       "0 & 0 & 0 & 0 & 0 & 0 & 0 & 0 & 0 & 0 & 0 & 0 & 0 & 0 & 0 & 0 & 0 & 0 & 0 & 0 & 0 & 0 & 0 & 0 & 0 & 0 & 0 & 0 & 0 & 0 & 0 & 0 & 0 & 0 & 0 & 0 & 0 & 0 & 0 & 0 & 0 & 0 & 0 & 0 & 1 & 1 & 0 & 1 & 0 & 1 & 1 & 2 & 2 & 1 & 2 & 0 & 0 & 0 & 0 & 0 & 0 & 0 & 0 & 0 \\\\\n",
       "0 & 0 & 0 & 0 & 0 & 0 & 0 & 0 & 0 & 0 & 0 & 0 & 0 & 0 & 0 & 0 & 0 & 0 & 0 & 0 & 0 & 0 & 0 & 0 & 0 & 0 & 0 & 0 & 0 & 0 & 0 & 0 & 0 & 0 & 0 & 0 & 0 & 0 & 0 & 0 & 0 & 0 & 0 & 0 & 0 & 1 & 1 & 0 & 1 & 0 & 1 & 1 & 2 & 2 & 1 & 2 & 0 & 0 & 0 & 0 & 0 & 0 & 0 & 0 \\\\\n",
       "0 & 0 & 0 & 0 & 0 & 0 & 0 & 0 & 0 & 0 & 0 & 0 & 0 & 0 & 0 & 0 & 0 & 0 & 0 & 0 & 0 & 0 & 0 & 0 & 0 & 0 & 0 & 0 & 0 & 0 & 0 & 0 & 0 & 0 & 0 & 0 & 0 & 0 & 0 & 0 & 0 & 0 & 0 & 0 & 0 & 0 & 1 & 1 & 0 & 1 & 0 & 1 & 1 & 2 & 2 & 1 & 2 & 0 & 0 & 0 & 0 & 0 & 0 & 0 \\\\\n",
       "0 & 0 & 0 & 0 & 0 & 0 & 0 & 0 & 0 & 0 & 0 & 0 & 0 & 0 & 0 & 0 & 0 & 0 & 0 & 0 & 0 & 0 & 0 & 0 & 0 & 0 & 0 & 0 & 0 & 0 & 0 & 0 & 0 & 0 & 0 & 0 & 0 & 0 & 0 & 0 & 0 & 0 & 0 & 0 & 0 & 0 & 0 & 1 & 1 & 0 & 1 & 0 & 1 & 1 & 2 & 2 & 1 & 2 & 0 & 0 & 0 & 0 & 0 & 0 \\\\\n",
       "0 & 0 & 0 & 0 & 0 & 0 & 0 & 0 & 0 & 0 & 0 & 0 & 0 & 0 & 0 & 0 & 0 & 0 & 0 & 0 & 0 & 0 & 0 & 0 & 0 & 0 & 0 & 0 & 0 & 0 & 0 & 0 & 0 & 0 & 0 & 0 & 0 & 0 & 0 & 0 & 0 & 0 & 0 & 0 & 0 & 0 & 0 & 0 & 1 & 1 & 0 & 1 & 0 & 1 & 1 & 2 & 2 & 1 & 2 & 0 & 0 & 0 & 0 & 0 \\\\\n",
       "0 & 0 & 0 & 0 & 0 & 0 & 0 & 0 & 0 & 0 & 0 & 0 & 0 & 0 & 0 & 0 & 0 & 0 & 0 & 0 & 0 & 0 & 0 & 0 & 0 & 0 & 0 & 0 & 0 & 0 & 0 & 0 & 0 & 0 & 0 & 0 & 0 & 0 & 0 & 0 & 0 & 0 & 0 & 0 & 0 & 0 & 0 & 0 & 0 & 1 & 1 & 0 & 1 & 0 & 1 & 1 & 2 & 2 & 1 & 2 & 0 & 0 & 0 & 0 \\\\\n",
       "0 & 0 & 0 & 0 & 0 & 0 & 0 & 0 & 0 & 0 & 0 & 0 & 0 & 0 & 0 & 0 & 0 & 0 & 0 & 0 & 0 & 0 & 0 & 0 & 0 & 0 & 0 & 0 & 0 & 0 & 0 & 0 & 0 & 0 & 0 & 0 & 0 & 0 & 0 & 0 & 0 & 0 & 0 & 0 & 0 & 0 & 0 & 0 & 0 & 0 & 1 & 1 & 0 & 1 & 0 & 1 & 1 & 2 & 2 & 1 & 2 & 0 & 0 & 0 \\\\\n",
       "0 & 0 & 0 & 0 & 0 & 0 & 0 & 0 & 0 & 0 & 0 & 0 & 0 & 0 & 0 & 0 & 0 & 0 & 0 & 0 & 0 & 0 & 0 & 0 & 0 & 0 & 0 & 0 & 0 & 0 & 0 & 0 & 0 & 0 & 0 & 0 & 0 & 0 & 0 & 0 & 0 & 0 & 0 & 0 & 0 & 0 & 0 & 0 & 0 & 0 & 0 & 1 & 1 & 0 & 1 & 0 & 1 & 1 & 2 & 2 & 1 & 2 & 0 & 0 \\\\\n",
       "0 & 0 & 0 & 0 & 0 & 0 & 0 & 0 & 0 & 0 & 0 & 0 & 0 & 0 & 0 & 0 & 0 & 0 & 0 & 0 & 0 & 0 & 0 & 0 & 0 & 0 & 0 & 0 & 0 & 0 & 0 & 0 & 0 & 0 & 0 & 0 & 0 & 0 & 0 & 0 & 0 & 0 & 0 & 0 & 0 & 0 & 0 & 0 & 0 & 0 & 0 & 0 & 1 & 1 & 0 & 1 & 0 & 1 & 1 & 2 & 2 & 1 & 2 & 0 \\\\\n",
       "0 & 0 & 0 & 0 & 0 & 0 & 0 & 0 & 0 & 0 & 0 & 0 & 0 & 0 & 0 & 0 & 0 & 0 & 0 & 0 & 0 & 0 & 0 & 0 & 0 & 0 & 0 & 0 & 0 & 0 & 0 & 0 & 0 & 0 & 0 & 0 & 0 & 0 & 0 & 0 & 0 & 0 & 0 & 0 & 0 & 0 & 0 & 0 & 0 & 0 & 0 & 0 & 0 & 1 & 1 & 0 & 1 & 0 & 1 & 1 & 2 & 2 & 1 & 2\n",
       "\\end{array}\\right)</script></html>"
      ],
      "text/plain": [
       "54 x 64 dense matrix over Finite Field of size 3 (use the '.str()' method to see the entries)"
      ]
     },
     "metadata": {},
     "output_type": "display_data"
    },
    {
     "name": "stdout",
     "output_type": "stream",
     "text": [
      "\n",
      "Matriz generadora:\n"
     ]
    },
    {
     "data": {
      "text/html": [
       "<html><script type=\"math/tex; mode=display\">\\newcommand{\\Bold}[1]{\\mathbf{#1}}\\left(\\begin{array}{rrrrrrrrrrrrrrrrrrrrrrrrrrrrrrrrrrrrrrrrrrrrrrrrrrrrrrrrrrrrrrrr}\n",
       "1 & 1 & 0 & 1 & 1 & 2 & 1 & 0 & 0 & 0 & 0 & 0 & 0 & 0 & 0 & 0 & 1 & 1 & 0 & 1 & 1 & 2 & 1 & 0 & 0 & 0 & 0 & 0 & 0 & 0 & 0 & 0 & 1 & 1 & 0 & 1 & 1 & 2 & 1 & 0 & 0 & 0 & 0 & 0 & 0 & 0 & 0 & 0 & 1 & 1 & 0 & 1 & 1 & 2 & 1 & 0 & 0 & 0 & 0 & 0 & 0 & 0 & 0 & 0 \\\\\n",
       "0 & 1 & 1 & 0 & 1 & 1 & 2 & 1 & 0 & 0 & 0 & 0 & 0 & 0 & 0 & 0 & 0 & 1 & 1 & 0 & 1 & 1 & 2 & 1 & 0 & 0 & 0 & 0 & 0 & 0 & 0 & 0 & 0 & 1 & 1 & 0 & 1 & 1 & 2 & 1 & 0 & 0 & 0 & 0 & 0 & 0 & 0 & 0 & 0 & 1 & 1 & 0 & 1 & 1 & 2 & 1 & 0 & 0 & 0 & 0 & 0 & 0 & 0 & 0 \\\\\n",
       "0 & 0 & 1 & 1 & 0 & 1 & 1 & 2 & 1 & 0 & 0 & 0 & 0 & 0 & 0 & 0 & 0 & 0 & 1 & 1 & 0 & 1 & 1 & 2 & 1 & 0 & 0 & 0 & 0 & 0 & 0 & 0 & 0 & 0 & 1 & 1 & 0 & 1 & 1 & 2 & 1 & 0 & 0 & 0 & 0 & 0 & 0 & 0 & 0 & 0 & 1 & 1 & 0 & 1 & 1 & 2 & 1 & 0 & 0 & 0 & 0 & 0 & 0 & 0 \\\\\n",
       "0 & 0 & 0 & 1 & 1 & 0 & 1 & 1 & 2 & 1 & 0 & 0 & 0 & 0 & 0 & 0 & 0 & 0 & 0 & 1 & 1 & 0 & 1 & 1 & 2 & 1 & 0 & 0 & 0 & 0 & 0 & 0 & 0 & 0 & 0 & 1 & 1 & 0 & 1 & 1 & 2 & 1 & 0 & 0 & 0 & 0 & 0 & 0 & 0 & 0 & 0 & 1 & 1 & 0 & 1 & 1 & 2 & 1 & 0 & 0 & 0 & 0 & 0 & 0 \\\\\n",
       "0 & 0 & 0 & 0 & 1 & 1 & 0 & 1 & 1 & 2 & 1 & 0 & 0 & 0 & 0 & 0 & 0 & 0 & 0 & 0 & 1 & 1 & 0 & 1 & 1 & 2 & 1 & 0 & 0 & 0 & 0 & 0 & 0 & 0 & 0 & 0 & 1 & 1 & 0 & 1 & 1 & 2 & 1 & 0 & 0 & 0 & 0 & 0 & 0 & 0 & 0 & 0 & 1 & 1 & 0 & 1 & 1 & 2 & 1 & 0 & 0 & 0 & 0 & 0 \\\\\n",
       "0 & 0 & 0 & 0 & 0 & 1 & 1 & 0 & 1 & 1 & 2 & 1 & 0 & 0 & 0 & 0 & 0 & 0 & 0 & 0 & 0 & 1 & 1 & 0 & 1 & 1 & 2 & 1 & 0 & 0 & 0 & 0 & 0 & 0 & 0 & 0 & 0 & 1 & 1 & 0 & 1 & 1 & 2 & 1 & 0 & 0 & 0 & 0 & 0 & 0 & 0 & 0 & 0 & 1 & 1 & 0 & 1 & 1 & 2 & 1 & 0 & 0 & 0 & 0 \\\\\n",
       "0 & 0 & 0 & 0 & 0 & 0 & 1 & 1 & 0 & 1 & 1 & 2 & 1 & 0 & 0 & 0 & 0 & 0 & 0 & 0 & 0 & 0 & 1 & 1 & 0 & 1 & 1 & 2 & 1 & 0 & 0 & 0 & 0 & 0 & 0 & 0 & 0 & 0 & 1 & 1 & 0 & 1 & 1 & 2 & 1 & 0 & 0 & 0 & 0 & 0 & 0 & 0 & 0 & 0 & 1 & 1 & 0 & 1 & 1 & 2 & 1 & 0 & 0 & 0 \\\\\n",
       "0 & 0 & 0 & 0 & 0 & 0 & 0 & 1 & 1 & 0 & 1 & 1 & 2 & 1 & 0 & 0 & 0 & 0 & 0 & 0 & 0 & 0 & 0 & 1 & 1 & 0 & 1 & 1 & 2 & 1 & 0 & 0 & 0 & 0 & 0 & 0 & 0 & 0 & 0 & 1 & 1 & 0 & 1 & 1 & 2 & 1 & 0 & 0 & 0 & 0 & 0 & 0 & 0 & 0 & 0 & 1 & 1 & 0 & 1 & 1 & 2 & 1 & 0 & 0 \\\\\n",
       "0 & 0 & 0 & 0 & 0 & 0 & 0 & 0 & 1 & 1 & 0 & 1 & 1 & 2 & 1 & 0 & 0 & 0 & 0 & 0 & 0 & 0 & 0 & 0 & 1 & 1 & 0 & 1 & 1 & 2 & 1 & 0 & 0 & 0 & 0 & 0 & 0 & 0 & 0 & 0 & 1 & 1 & 0 & 1 & 1 & 2 & 1 & 0 & 0 & 0 & 0 & 0 & 0 & 0 & 0 & 0 & 1 & 1 & 0 & 1 & 1 & 2 & 1 & 0 \\\\\n",
       "0 & 0 & 0 & 0 & 0 & 0 & 0 & 0 & 0 & 1 & 1 & 0 & 1 & 1 & 2 & 1 & 0 & 0 & 0 & 0 & 0 & 0 & 0 & 0 & 0 & 1 & 1 & 0 & 1 & 1 & 2 & 1 & 0 & 0 & 0 & 0 & 0 & 0 & 0 & 0 & 0 & 1 & 1 & 0 & 1 & 1 & 2 & 1 & 0 & 0 & 0 & 0 & 0 & 0 & 0 & 0 & 0 & 1 & 1 & 0 & 1 & 1 & 2 & 1\n",
       "\\end{array}\\right)</script></html>"
      ],
      "text/plain": [
       "10 x 64 dense matrix over Finite Field of size 3 (use the '.str()' method to see the entries)"
      ]
     },
     "metadata": {},
     "output_type": "display_data"
    },
    {
     "name": "stdout",
     "output_type": "stream",
     "text": [
      "\n",
      "Polinomio generador:\n"
     ]
    },
    {
     "data": {
      "text/html": [
       "<html><script type=\"math/tex; mode=display\">\\newcommand{\\Bold}[1]{\\mathbf{#1}}x^{54} + 2 x^{53} + x^{52} + x^{51} + x^{49} + x^{48} + x^{38} + 2 x^{37} + x^{36} + x^{35} + x^{33} + x^{32} + x^{22} + 2 x^{21} + x^{20} + x^{19} + x^{17} + x^{16} + x^{6} + 2 x^{5} + x^{4} + x^{3} + x + 1</script></html>"
      ],
      "text/plain": [
       "x^54 + 2*x^53 + x^52 + x^51 + x^49 + x^48 + x^38 + 2*x^37 + x^36 + x^35 + x^33 + x^32 + x^22 + 2*x^21 + x^20 + x^19 + x^17 + x^16 + x^6 + 2*x^5 + x^4 + x^3 + x + 1"
      ]
     },
     "metadata": {},
     "output_type": "display_data"
    }
   ],
   "source": [
    "q = 3\n",
    "F = GF(q)\n",
    "n = 64\n",
    "delta = 11\n",
    "C = BCHCode(F, n, delta, None)\n",
    "d = C.generator_matrix().nrows()\n",
    "\n",
    "print(\"Código BCH:\")\n",
    "print(C)\n",
    "\n",
    "print(\"\\nMatriz de paridad:\")\n",
    "show(C.parity_check_matrix())\n",
    "\n",
    "print(\"\\nMatriz generadora:\")\n",
    "show(C.generator_matrix())\n",
    "\n",
    "print(\"\\nPolinomio generador:\")\n",
    "show(CyclicCode(code = C).generator_polynomial())"
   ]
  },
  {
   "cell_type": "markdown",
   "metadata": {},
   "source": [
    "Generamos una palabra aleatoria de tamaño $n$ de elementos del cuerpo finito, $\\mathbb{F}_{5}$."
   ]
  },
  {
   "cell_type": "code",
   "execution_count": 28,
   "metadata": {
    "scrolled": true
   },
   "outputs": [
    {
     "name": "stdout",
     "output_type": "stream",
     "text": [
      "Codificador BCH:\n",
      "Encoder for [64, 10] BCH Code over GF(3) with designed distance 11\n",
      "\n",
      "Palabra para codificar:\n"
     ]
    },
    {
     "data": {
      "text/html": [
       "<html><script type=\"math/tex; mode=display\">\\newcommand{\\Bold}[1]{\\mathbf{#1}}\\left(0,\\,2,\\,2,\\,0,\\,2,\\,0,\\,0,\\,0,\\,0,\\,2\\right)</script></html>"
      ],
      "text/plain": [
       "(0, 2, 2, 0, 2, 0, 0, 0, 0, 2)"
      ]
     },
     "metadata": {},
     "output_type": "display_data"
    }
   ],
   "source": [
    "Encoder = BCHEncoder(C)\n",
    "\n",
    "print(\"Codificador BCH:\")\n",
    "print(Encoder)\n",
    "\n",
    "print(\"\\nPalabra para codificar:\")\n",
    "message = random_word(d, F)\n",
    "show(message)"
   ]
  },
  {
   "cell_type": "markdown",
   "metadata": {},
   "source": [
    "Codificamos la palabra."
   ]
  },
  {
   "cell_type": "code",
   "execution_count": 29,
   "metadata": {},
   "outputs": [
    {
     "name": "stdout",
     "output_type": "stream",
     "text": [
      "\n",
      "Palabra codificada:\n"
     ]
    },
    {
     "data": {
      "text/html": [
       "<html><script type=\"math/tex; mode=display\">\\newcommand{\\Bold}[1]{\\mathbf{#1}}\\left(0,\\,2,\\,1,\\,2,\\,1,\\,0,\\,0,\\,2,\\,1,\\,0,\\,1,\\,0,\\,2,\\,2,\\,1,\\,2,\\,0,\\,2,\\,1,\\,2,\\,1,\\,0,\\,0,\\,2,\\,1,\\,0,\\,1,\\,0,\\,2,\\,2,\\,1,\\,2,\\,0,\\,2,\\,1,\\,2,\\,1,\\,0,\\,0,\\,2,\\,1,\\,0,\\,1,\\,0,\\,2,\\,2,\\,1,\\,2,\\,0,\\,2,\\,1,\\,2,\\,1,\\,0,\\,0,\\,2,\\,1,\\,0,\\,1,\\,0,\\,2,\\,2,\\,1,\\,2\\right)</script></html>"
      ],
      "text/plain": [
       "(0, 2, 1, 2, 1, 0, 0, 2, 1, 0, 1, 0, 2, 2, 1, 2, 0, 2, 1, 2, 1, 0, 0, 2, 1, 0, 1, 0, 2, 2, 1, 2, 0, 2, 1, 2, 1, 0, 0, 2, 1, 0, 1, 0, 2, 2, 1, 2, 0, 2, 1, 2, 1, 0, 0, 2, 1, 0, 1, 0, 2, 2, 1, 2)"
      ]
     },
     "metadata": {},
     "output_type": "display_data"
    }
   ],
   "source": [
    "print(\"\\nPalabra codificada:\")\n",
    "c = Encoder.encode(message)\n",
    "show(c)"
   ]
  },
  {
   "cell_type": "markdown",
   "metadata": {},
   "source": [
    "Generamos un vector de errores y se lo agregamos a la palabra codidicada."
   ]
  },
  {
   "cell_type": "code",
   "execution_count": 30,
   "metadata": {},
   "outputs": [
    {
     "name": "stdout",
     "output_type": "stream",
     "text": [
      "\n",
      "Vector de errores:\n"
     ]
    },
    {
     "data": {
      "text/html": [
       "<html><script type=\"math/tex; mode=display\">\\newcommand{\\Bold}[1]{\\mathbf{#1}}\\left(0,\\,0,\\,0,\\,0,\\,0,\\,0,\\,0,\\,0,\\,0,\\,0,\\,0,\\,0,\\,0,\\,0,\\,0,\\,0,\\,0,\\,0,\\,0,\\,0,\\,0,\\,0,\\,2,\\,0,\\,0,\\,0,\\,1,\\,0,\\,0,\\,0,\\,0,\\,0,\\,0,\\,0,\\,0,\\,0,\\,0,\\,0,\\,0,\\,0,\\,0,\\,0,\\,0,\\,0,\\,0,\\,0,\\,0,\\,0,\\,1,\\,0,\\,0,\\,0,\\,0,\\,0,\\,0,\\,0,\\,0,\\,0,\\,0,\\,0,\\,0,\\,0,\\,0,\\,0\\right)</script></html>"
      ],
      "text/plain": [
       "(0, 0, 0, 0, 0, 0, 0, 0, 0, 0, 0, 0, 0, 0, 0, 0, 0, 0, 0, 0, 0, 0, 2, 0, 0, 0, 1, 0, 0, 0, 0, 0, 0, 0, 0, 0, 0, 0, 0, 0, 0, 0, 0, 0, 0, 0, 0, 0, 1, 0, 0, 0, 0, 0, 0, 0, 0, 0, 0, 0, 0, 0, 0, 0)"
      ]
     },
     "metadata": {},
     "output_type": "display_data"
    },
    {
     "name": "stdout",
     "output_type": "stream",
     "text": [
      "\n",
      "Palabra codificada con errores (y = c + e):\n"
     ]
    },
    {
     "data": {
      "text/html": [
       "<html><script type=\"math/tex; mode=display\">\\newcommand{\\Bold}[1]{\\mathbf{#1}}\\left(0,\\,2,\\,1,\\,2,\\,1,\\,0,\\,0,\\,2,\\,1,\\,0,\\,1,\\,0,\\,2,\\,2,\\,1,\\,2,\\,0,\\,2,\\,1,\\,2,\\,1,\\,0,\\,2,\\,2,\\,1,\\,0,\\,2,\\,0,\\,2,\\,2,\\,1,\\,2,\\,0,\\,2,\\,1,\\,2,\\,1,\\,0,\\,0,\\,2,\\,1,\\,0,\\,1,\\,0,\\,2,\\,2,\\,1,\\,2,\\,1,\\,2,\\,1,\\,2,\\,1,\\,0,\\,0,\\,2,\\,1,\\,0,\\,1,\\,0,\\,2,\\,2,\\,1,\\,2\\right)</script></html>"
      ],
      "text/plain": [
       "(0, 2, 1, 2, 1, 0, 0, 2, 1, 0, 1, 0, 2, 2, 1, 2, 0, 2, 1, 2, 1, 0, 2, 2, 1, 0, 2, 0, 2, 2, 1, 2, 0, 2, 1, 2, 1, 0, 0, 2, 1, 0, 1, 0, 2, 2, 1, 2, 1, 2, 1, 2, 1, 0, 0, 2, 1, 0, 1, 0, 2, 2, 1, 2)"
      ]
     },
     "metadata": {},
     "output_type": "display_data"
    }
   ],
   "source": [
    "print(\"\\nVector de errores:\")\n",
    "n_errors = floor((delta-1)/2)\n",
    "e = random_error(len(c), n_errors, F)\n",
    "show(e)\n",
    "\n",
    "print(\"\\nPalabra codificada con errores (y = c + e):\")\n",
    "y = c + e\n",
    "show(y)"
   ]
  },
  {
   "cell_type": "markdown",
   "metadata": {},
   "source": [
    "### Algoritmo de Peterson-Gorenstein-Zieler\n",
    "Decodificamos con el algoritmo de Peterson-Gorenstein Zieler y comprobamos si coincide con el mensaje original."
   ]
  },
  {
   "cell_type": "code",
   "execution_count": 31,
   "metadata": {
    "scrolled": true
   },
   "outputs": [
    {
     "name": "stdout",
     "output_type": "stream",
     "text": [
      "\n",
      "Decodificador BCH con el algoritmo de Peterson-Gorenstein-Zieler:\n",
      "Peterson-Gorenstein-Zieler decoder for [64, 10] BCH Code over GF(3) with designed distance 11\n",
      "\n",
      "Decodificacion de y:\n"
     ]
    },
    {
     "data": {
      "text/html": [
       "<html><script type=\"math/tex; mode=display\">\\newcommand{\\Bold}[1]{\\mathbf{#1}}\\left(0,\\,2,\\,1,\\,2,\\,1,\\,0,\\,0,\\,2,\\,1,\\,0,\\,1,\\,0,\\,2,\\,2,\\,1,\\,2,\\,0,\\,2,\\,1,\\,2,\\,1,\\,0,\\,0,\\,2,\\,1,\\,0,\\,1,\\,0,\\,2,\\,2,\\,1,\\,2,\\,0,\\,2,\\,1,\\,2,\\,1,\\,0,\\,0,\\,2,\\,1,\\,0,\\,1,\\,0,\\,2,\\,2,\\,1,\\,2,\\,0,\\,2,\\,1,\\,2,\\,1,\\,0,\\,0,\\,2,\\,1,\\,0,\\,1,\\,0,\\,2,\\,2,\\,1,\\,2\\right)</script></html>"
      ],
      "text/plain": [
       "(0, 2, 1, 2, 1, 0, 0, 2, 1, 0, 1, 0, 2, 2, 1, 2, 0, 2, 1, 2, 1, 0, 0, 2, 1, 0, 1, 0, 2, 2, 1, 2, 0, 2, 1, 2, 1, 0, 0, 2, 1, 0, 1, 0, 2, 2, 1, 2, 0, 2, 1, 2, 1, 0, 0, 2, 1, 0, 1, 0, 2, 2, 1, 2)"
      ]
     },
     "metadata": {},
     "output_type": "display_data"
    },
    {
     "name": "stdout",
     "output_type": "stream",
     "text": [
      "\n",
      "Mensaje decodificado de y:\n"
     ]
    },
    {
     "data": {
      "text/html": [
       "<html><script type=\"math/tex; mode=display\">\\newcommand{\\Bold}[1]{\\mathbf{#1}}\\left(0,\\,2,\\,2,\\,0,\\,2,\\,0,\\,0,\\,0,\\,0,\\,2\\right)</script></html>"
      ],
      "text/plain": [
       "(0, 2, 2, 0, 2, 0, 0, 0, 0, 2)"
      ]
     },
     "metadata": {},
     "output_type": "display_data"
    }
   ],
   "source": [
    "Decoder = BCHDecoderPGZ(C)\n",
    "\n",
    "print(\"\\nDecodificador BCH con el algoritmo de Peterson-Gorenstein-Zieler:\")\n",
    "print(Decoder)\n",
    "\n",
    "print(\"\\nDecodificacion de y:\")\n",
    "c_decoded = Decoder.decode_to_code(y)\n",
    "show(c_decoded)\n",
    "\n",
    "print(\"\\nMensaje decodificado de y:\")\n",
    "message_decoded = Decoder.decode_to_message(y)\n",
    "show(message_decoded)"
   ]
  },
  {
   "cell_type": "code",
   "execution_count": 32,
   "metadata": {},
   "outputs": [
    {
     "data": {
      "text/html": [
       "<p style='color:green; font-size:16px;'></br>El resultado de la decodificación coincide con la codificación de la palabra original</p>"
      ],
      "text/plain": [
       "<IPython.core.display.HTML object>"
      ]
     },
     "execution_count": 32,
     "metadata": {},
     "output_type": "execute_result"
    }
   ],
   "source": [
    "if c == c_decoded:\n",
    "    mensaje = \"<p style='color:green; font-size:16px;'></br>El resultado de la decodificación coincide con la codificación de la palabra original</p>\"\n",
    "else:\n",
    "    mensaje = \"<p style='color:red; font-size:16px;'></br>El resultado de la decodificación coincide no con la codificación de la palabra original</p>\"\n",
    "\n",
    "HTML(mensaje)"
   ]
  },
  {
   "cell_type": "code",
   "execution_count": 33,
   "metadata": {},
   "outputs": [
    {
     "data": {
      "text/html": [
       "<p style='color:green; font-size:16px;'></br>El mensaje decodificado coincide con el original</p>"
      ],
      "text/plain": [
       "<IPython.core.display.HTML object>"
      ]
     },
     "execution_count": 33,
     "metadata": {},
     "output_type": "execute_result"
    }
   ],
   "source": [
    "if message == message_decoded:\n",
    "    mensaje = \"<p style='color:green; font-size:16px;'></br>El mensaje decodificado coincide con el original</p>\"\n",
    "else:\n",
    "    mensaje = \"<p style='color:red; font-size:16px;'></br>El mensaje decodificado no coincide con el original</p>\"\n",
    "\n",
    "HTML(mensaje)"
   ]
  },
  {
   "cell_type": "markdown",
   "metadata": {},
   "source": [
    "### Algoritmo de Sugiyama\n",
    "Decodificamos con el algoritmo de Sugiyama y comprobamos si coincide con el mensaje original."
   ]
  },
  {
   "cell_type": "code",
   "execution_count": 34,
   "metadata": {
    "scrolled": false
   },
   "outputs": [
    {
     "name": "stdout",
     "output_type": "stream",
     "text": [
      "\n",
      "Decodificador BCH con el algoritmo de Sugiyama:\n",
      "Sugiyama decoder for [64, 10] BCH Code over GF(3) with designed distance 11\n",
      "\n",
      "Decodificacion de y:\n"
     ]
    },
    {
     "data": {
      "text/html": [
       "<html><script type=\"math/tex; mode=display\">\\newcommand{\\Bold}[1]{\\mathbf{#1}}\\left(0,\\,2,\\,1,\\,2,\\,1,\\,0,\\,0,\\,2,\\,1,\\,0,\\,1,\\,0,\\,2,\\,2,\\,1,\\,2,\\,0,\\,2,\\,1,\\,2,\\,1,\\,0,\\,0,\\,2,\\,1,\\,0,\\,1,\\,0,\\,2,\\,2,\\,1,\\,2,\\,0,\\,2,\\,1,\\,2,\\,1,\\,0,\\,0,\\,2,\\,1,\\,0,\\,1,\\,0,\\,2,\\,2,\\,1,\\,2,\\,0,\\,2,\\,1,\\,2,\\,1,\\,0,\\,0,\\,2,\\,1,\\,0,\\,1,\\,0,\\,2,\\,2,\\,1,\\,2\\right)</script></html>"
      ],
      "text/plain": [
       "(0, 2, 1, 2, 1, 0, 0, 2, 1, 0, 1, 0, 2, 2, 1, 2, 0, 2, 1, 2, 1, 0, 0, 2, 1, 0, 1, 0, 2, 2, 1, 2, 0, 2, 1, 2, 1, 0, 0, 2, 1, 0, 1, 0, 2, 2, 1, 2, 0, 2, 1, 2, 1, 0, 0, 2, 1, 0, 1, 0, 2, 2, 1, 2)"
      ]
     },
     "metadata": {},
     "output_type": "display_data"
    },
    {
     "name": "stdout",
     "output_type": "stream",
     "text": [
      "\n",
      "Mensaje decodificado de y:\n"
     ]
    },
    {
     "data": {
      "text/html": [
       "<html><script type=\"math/tex; mode=display\">\\newcommand{\\Bold}[1]{\\mathbf{#1}}\\left(0,\\,2,\\,2,\\,0,\\,2,\\,0,\\,0,\\,0,\\,0,\\,2\\right)</script></html>"
      ],
      "text/plain": [
       "(0, 2, 2, 0, 2, 0, 0, 0, 0, 2)"
      ]
     },
     "metadata": {},
     "output_type": "display_data"
    }
   ],
   "source": [
    "Decoder = BCHDecoderS(C)\n",
    "\n",
    "print(\"\\nDecodificador BCH con el algoritmo de Sugiyama:\")\n",
    "print(Decoder)\n",
    "\n",
    "print(\"\\nDecodificacion de y:\")\n",
    "c_decoded = Decoder.decode_to_code(y)\n",
    "show(c_decoded)\n",
    "\n",
    "print(\"\\nMensaje decodificado de y:\")\n",
    "message_decoded = Decoder.decode_to_message(y)\n",
    "show(message_decoded)"
   ]
  },
  {
   "cell_type": "code",
   "execution_count": 35,
   "metadata": {},
   "outputs": [
    {
     "data": {
      "text/html": [
       "<p style='color:green; font-size:16px;'></br>El resultado de la decodificación coincide con la codificación de la palabra original</p>"
      ],
      "text/plain": [
       "<IPython.core.display.HTML object>"
      ]
     },
     "execution_count": 35,
     "metadata": {},
     "output_type": "execute_result"
    }
   ],
   "source": [
    "if c == c_decoded:\n",
    "    mensaje = \"<p style='color:green; font-size:16px;'></br>El resultado de la decodificación coincide con la codificación de la palabra original</p>\"\n",
    "else:\n",
    "    mensaje = \"<p style='color:red; font-size:16px;'></br>El resultado de la decodificación coincide no con la codificación de la palabra original</p>\"\n",
    "\n",
    "HTML(mensaje)"
   ]
  },
  {
   "cell_type": "code",
   "execution_count": 36,
   "metadata": {},
   "outputs": [
    {
     "data": {
      "text/html": [
       "<p style='color:green; font-size:16px;'></br>El mensaje decodificado coincide con el original</p>"
      ],
      "text/plain": [
       "<IPython.core.display.HTML object>"
      ]
     },
     "execution_count": 36,
     "metadata": {},
     "output_type": "execute_result"
    }
   ],
   "source": [
    "if message == message_decoded:\n",
    "    mensaje = \"<p style='color:green; font-size:16px;'></br>El mensaje decodificado coincide con el original</p>\"\n",
    "else:\n",
    "    mensaje = \"<p style='color:red; font-size:16px;'></br>El mensaje decodificado no coincide con el original</p>\"\n",
    "\n",
    "HTML(mensaje)"
   ]
  }
 ],
 "metadata": {
  "kernelspec": {
   "display_name": "SageMath 9.0",
   "language": "sage",
   "name": "sagemath"
  },
  "language_info": {
   "codemirror_mode": {
    "name": "ipython",
    "version": 3
   },
   "file_extension": ".py",
   "mimetype": "text/x-python",
   "name": "python",
   "nbconvert_exporter": "python",
   "pygments_lexer": "ipython3",
   "version": "3.8.10"
  }
 },
 "nbformat": 4,
 "nbformat_minor": 4
}
