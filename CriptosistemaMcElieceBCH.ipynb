{
 "cells": [
  {
   "cell_type": "markdown",
   "metadata": {},
   "source": [
    "## Criptosistema de McEliece con códigos BCH\n",
    "#### Autor: Javier Ojeda Baena\n",
    "#### DNI: 75943022N"
   ]
  },
  {
   "cell_type": "code",
   "execution_count": 1,
   "metadata": {},
   "outputs": [],
   "source": [
    "from sage.coding.bch_code import BCHCode\n",
    "from sage.coding.cyclic_code import CyclicCode\n",
    "from sage.coding.encoder import Encoder\n",
    "from sage.coding.decoder import Decoder\n",
    "from IPython.display import HTML"
   ]
  },
  {
   "cell_type": "code",
   "execution_count": 2,
   "metadata": {},
   "outputs": [],
   "source": [
    "def random_word(n, F):\n",
    "    \"\"\"\n",
    "    Genera una palabra aleatoria de longitud n utilizando los elementos de un cuerpo finito F.\n",
    "\n",
    "    Parámetros:\n",
    "        - n : longitud de la palabra que se quiere generar.\n",
    "        - F : cuerpo finito del que se van a coger los elementos para generar la palabra aleatoria.\n",
    "\n",
    "    Devuelve:\n",
    "        Palabra aleatoria de longitud n de elementos de F\n",
    "    \"\"\"\n",
    "    word = []\n",
    "\n",
    "    while len(word) != n:\n",
    "        word = word + [choice(F.list())]\n",
    "\n",
    "    word = vector(word, F)\n",
    "    \n",
    "    return word"
   ]
  },
  {
   "cell_type": "code",
   "execution_count": 3,
   "metadata": {},
   "outputs": [],
   "source": [
    "def random_error(n, n_errors, F):\n",
    "    \"\"\"\n",
    "    Genera un vector de errores aleatorios de longitud n, que tiene como máximo n errors \n",
    "    elementos no nulos, utilizando elementos del cuerpo finito F.\n",
    "\n",
    "    Parámetros:\n",
    "        - n : longitud del vector de errores que se quiere generar.\n",
    "        - n_errors : número máximo de elementos no nulos que se quieren en el vector de errores.\n",
    "        - F : cuerpo finito del que se van a coger los elementos para generar el vector de errores aleatorios.\n",
    "        \n",
    "    Devuelve:\n",
    "        - Vector de errores aleatorios con n elementos, n_errors elementos no nulos de elementos de F\n",
    "    \"\"\"\n",
    "    e = [0] * n\n",
    "    \n",
    "    i = 0\n",
    "    \n",
    "    while i < n_errors:\n",
    "        p = randint(0, n-1)\n",
    "        e[p] = choice(F.list())\n",
    "        i += 1\n",
    "\n",
    "    e = vector(e, F)\n",
    "    \n",
    "    return e"
   ]
  },
  {
   "cell_type": "code",
   "execution_count": 4,
   "metadata": {},
   "outputs": [],
   "source": [
    "class BCHEncoder(Encoder):\n",
    "    \"\"\"\n",
    "    Clase que representa un codificador BCH.\n",
    "    \"\"\"\n",
    "    \n",
    "    \n",
    "    def __init__(self, code):\n",
    "        \"\"\"\n",
    "        Constructor de la clase.\n",
    "\n",
    "        Parámetros:\n",
    "            - code: código BCH.\n",
    "        \"\"\"\n",
    "        super(BCHEncoder, self).__init__(code)\n",
    "        \n",
    "        \n",
    "    def _repr_(self):\n",
    "        \"\"\"\n",
    "        Método que devuelve una representación en cadena de caracteres de la clase.\n",
    "\n",
    "        Devuelve:\n",
    "            - Cadena de caracteres que representa el objeto.\n",
    "        \"\"\"\n",
    "        return \"Encoder for {}\".format(self.code())\n",
    "    \n",
    "    \n",
    "    def encode (self, m):\n",
    "        \"\"\"\n",
    "        Método que codifica un mensaje utilizando el código BCH.\n",
    "\n",
    "        Parámetros:\n",
    "            - m: mensaje a codificar.\n",
    "\n",
    "        Devuelve:\n",
    "            - Mensaje codificado con el código BCH.\n",
    "        \"\"\"\n",
    "        return m * self.code().generator_matrix()"
   ]
  },
  {
   "cell_type": "markdown",
   "metadata": {},
   "source": [
    "## Decodificador con el algoritmos de Sugiyama\n",
    "El proceso final coincide con el algoritmo de Peterson-Gorenstein-Ziele, la única parte que cambia es la forma de calcular $\\sigma(x)$ el polinomio localizador de errores:\n",
    "\n",
    "1. Calculamos el síndrome $S(x)=\\displaystyle\\sum_{i=0}^{2t-1} S_{i+1}x^{i}$.\n",
    "\n",
    "\n",
    "2. Sean $r_{-1}(x) = x^{2t}$, $r_0(x) = S(x)$, $b_{-1}(x) = 0$ y $b_0(x) = 1$. Repetimos los siguientes dos calculos encontrando $h_{i}(x),\\,r_{i}(x),\\,\\text{ y }b_{i}(x)$ de forma inductiva para $i=1,\\,2,\\,\\ldots,\\,I$, hasta $I$ satisfaciendo $grad(r_{I-1}(x)\\geq t$ y $grad(r_{I}(x))<t$:\n",
    "$$r_{i-2}(x)=r_{i-1}(x)h_{i}+r_{i}(x),\\text{ donde }grad(r_{i}(x))<grad(r_{i-1}(x))$$\n",
    "$$b_{i}(x)=b_{i-2}(x)-h_{i}(x)b_{i-1}(x)$$\n",
    "\n",
    "\n",
    "3. $\\sigma(x)$ es algun escalar distinto de cero multiplicado por $b_{I}(x)$."
   ]
  },
  {
   "cell_type": "code",
   "execution_count": 5,
   "metadata": {},
   "outputs": [],
   "source": [
    "class BCHDecoderS(Decoder):\n",
    "    \"\"\"\n",
    "    Implementación del decodificador con el algoritmo de Sugiyama para códigos BCH.\n",
    "    \"\"\"\n",
    "        \n",
    "    \n",
    "    def __init__(self, code):\n",
    "        \"\"\"\n",
    "        Constructor de la clase.\n",
    "\n",
    "        Parámetros:\n",
    "            - code: Código BCH.\n",
    "        \"\"\"\n",
    "        super(BCHDecoderS, self).__init__(code, code.ambient_space(), \"BCHDecoderS\")\n",
    "    \n",
    "    \n",
    "    def _repr_(self):\n",
    "        \"\"\"\n",
    "        Método que devuelve una representación en cadena de caracteres de la clase.\n",
    "\n",
    "        Devuelve:\n",
    "            - Cadena de caracteres que representa el objeto.\n",
    "        \"\"\"\n",
    "        return \"Sugiyama decoder for {}\".format(self.code())  \n",
    "\n",
    "    \n",
    "    \n",
    "    def decode_to_code(self, y):\n",
    "        \"\"\"\n",
    "        Dado un vector y calcula la palabra código más cercana a este con el algoritmo de Sugiyama\n",
    "\n",
    "        Parámetros:\n",
    "            - y: vector a decodificar.\n",
    "\n",
    "        Devuelve:\n",
    "            - La palabra código más cercana a y.\n",
    "        \"\"\"\n",
    "        \n",
    "        F = self.code().base_field()\n",
    "        q = len(F.list())\n",
    "        n = self.code().length()\n",
    "        \n",
    "        m = 1\n",
    "        \n",
    "        while (q**m%n != 1):\n",
    "            m += 1\n",
    "            \n",
    "        L = GF(q^m)\n",
    "        R.<x> = L[] \n",
    "\n",
    "        # Paso 1: calculamos S(x) e inicializamos los primeros valores del algoritmo\n",
    "        \n",
    "        t = floor((self.code().designed_distance()-1)/2)\n",
    "        primitive_root = L.gen()**((q**m-1)//n)\n",
    "        \n",
    "        y_polynomial = 0\n",
    "        for i in range(len(y)):\n",
    "            y_polynomial += y[i]*x**i\n",
    "\n",
    "            \n",
    "        S = vector([y_polynomial(primitive_root**i) for i in range(1, 2*t+1)])\n",
    "        \n",
    "        S_polynomial = 0\n",
    "\n",
    "        for j in range(len(S)):\n",
    "            S_polynomial = S_polynomial+S[j]*x**j\n",
    "\n",
    "        if S_polynomial == 0:\n",
    "            return y\n",
    "        \n",
    "        i = 1\n",
    "        \n",
    "        f = x**(2*t)\n",
    "        s = S_polynomial\n",
    "        r = [f, s]\n",
    "        b = [0, 1]\n",
    "        \n",
    "        # Paso 2: calculamos el el polinomio bI(x)\n",
    "\n",
    "        while r[i].degree() >= t or r[i-1].degree() < t:\n",
    "            (q, rs) = r[i-1].quo_rem(r[i])\n",
    "            r.append(rs)\n",
    "            b.append(b[i-1]-q*b[i])\n",
    "            i += 1\n",
    "        \n",
    "        \n",
    "        # Paso 3: el polinomio localizador de errores, sigma, es bI(x) por algún escalar distinto de 0\n",
    "        \n",
    "        sigma = b[i] / b[i].coefficients()[-1]\n",
    "        \n",
    "        # Paso 4: calculamos las posiciones de los errores, sabiendo que son los inversos de las raices\n",
    "        #         de sigma(x)\n",
    "        \n",
    "        xi = [primitive_root**i for i in range(n)]\n",
    "        \n",
    "        k = []\n",
    "        for root in sigma.roots():\n",
    "            k.append(xi.index(root[0]**(-1)))\n",
    "        \n",
    "        # Paso 5: resolvemos el sistema formado por los sindromes, las posiciones de los errores, y las\n",
    "        #         magnitudes de los mismos\n",
    "        \n",
    "        A = []\n",
    "        \n",
    "        for i in range(1, 2*t+1):\n",
    "            equation = []\n",
    "            for root in sigma.roots():\n",
    "                equation.append(root[0]**(-i))\n",
    "            A.append(equation)\n",
    "            \n",
    "        A = matrix(A)\n",
    "        \n",
    "        E = A.solve_right(S)\n",
    "        \n",
    "        # Calculamos el vector de errores\n",
    "        \n",
    "        e = [0] * n\n",
    "        \n",
    "        v = len(k)\n",
    "        \n",
    "        for i in range(v):\n",
    "            e[k[i]] = E[i]\n",
    "            \n",
    "        y_decoded = y-vector(e, F)\n",
    "        \n",
    "        return y_decoded\n",
    "\n",
    "    def decode_to_message(self, y):\n",
    "        \"\"\"\n",
    "        Dado un vector y lo decodifica con el algoritmo de Sugiyama obteniendo el mensaje original.\n",
    "\n",
    "        Parámetros:\n",
    "            - y: vector a decodificar.\n",
    "\n",
    "        Devuelve:\n",
    "            - El mensaje decodificado.\n",
    "        \"\"\"\n",
    "        c_decoded = self.decode_to_code(y)\n",
    "        word = self.code().generator_matrix().solve_left(c_decoded)\n",
    "        return word"
   ]
  },
  {
   "cell_type": "markdown",
   "metadata": {},
   "source": [
    "## Criptosistema de McEliece\n",
    "\n",
    "### Implementación\n",
    "\n",
    "Generamos de forma aleatoria un $[n,\\,k]$-código BCH binario, $C$, con un algoritmo de decodificación , $\\mathcal{D}$, capaz de corregir hasta $t$ errores. A continuación obtenemos su matriz generadora $G$.\\\\\n",
    "Una vez obtenido $G$, deberemos de obtener dos matrices aleatorias, $S$, matriz no singular de orden $k\\times k$ y $P$ una matriz de permutaciones de orden $n\\times n$. Con estas matrices calculamos $G'=SGP$. Esta matriz, es la matriz generadora de un código lineal con la misma tasa y distancia mínima que el código generado por $G$. $G'$ se denomina la matriz generadora pública.\\\\\n",
    "La clave pública estará formada por $G'$ y $t$ (el número de errores que es capaz de corregir $\\mathcal{D}$.\n",
    "La clave privada estará formada por las matrices $G$, $S$ y $P$ y el algoritmo de decodificación asociado al código, $\\mathcal{D}$ (por ejemplo en caso de usar códigos Reed-Solomon podemos usar como algoritmo de decodificación el de Sugiyama).\n",
    "\n",
    "### Algoritmo de encriptación\n",
    "\n",
    "Dada la información para encriptar dividida en bloques de $k$-bits. Si $u$ es uno de esos bloques, se manda el vector \n",
    "$$x=uG'+z$$\n",
    "donde $G'$ es la matriz generadora pública, y $z$ es un vector random de error, de longitud $n$ y peso $t$.\\\\\n",
    "Recivido el vector $x$, se puede recuperar $u$ de forma eficiente usando el siguiente algoritmo de desencriptación:\n",
    "\n",
    "### Algoritmo de desincriptación\n",
    "\n",
    "Calculamos $x'=xP^{-1}$ donde $P^{-1}$ es la inversa de la matriz de permutaciones $P$. Cabe recalcar que $uSG$ es una palabra código de $C$, luego:\n",
    "$$x'=uSG+zP^{-1}.$$\n",
    "$zP^{-1}$ es un vector de error con el mismo peso que $z$, es decir, $t$, luego al decodificar con el algoritmo $\\mathcal{D}$, obtendremos $u'=uS$, el cual multiplicando por $S^{-1}$ por la derecha nos dará el mensaje original."
   ]
  },
  {
   "cell_type": "code",
   "execution_count": 6,
   "metadata": {
    "scrolled": true
   },
   "outputs": [],
   "source": [
    "class McElieceEncrypter:\n",
    "\n",
    "    \"\"\"\n",
    "    Implementación del sistema de encriptación de McEliece con código BCH.\n",
    "    \"\"\"\n",
    "    \n",
    "    def __init__(self, n, delta):\n",
    "        \"\"\"\n",
    "        Constructor de la clase.\n",
    "\n",
    "        Parámetros:\n",
    "            - F: cuerpo finito que conformará la base de los elementos del código.\n",
    "            - n: Longitud del código.\n",
    "            - delta: distancia diseñada del código.\n",
    "        \"\"\"\n",
    "        \n",
    "        F = GF(2)\n",
    "        \n",
    "        C = BCHCode(F, n, delta, b = choice(range(1, n)))\n",
    "        \n",
    "        G = C.generator_matrix()\n",
    "        \n",
    "        k = G.nrows()\n",
    "\n",
    "        S = matrix(F, k, [choice(F.list()) for i in range(k^2)])\n",
    "        \n",
    "        while rank(S) < k:\n",
    "            i = randint(0, k-1)\n",
    "            j = randint(0, k-1)\n",
    "            S[i, j] = choice(F.list())\n",
    "\n",
    "        columns = list(range(n))\n",
    "        P = matrix(F, n)\n",
    "        \n",
    "        for i in range(n):\n",
    "            l = randint(0, len(columns)-1)\n",
    "            j = columns[l]\n",
    "            P[i, j] = 1\n",
    "            columns.remove(j)\n",
    "            \n",
    "        self._C = C\n",
    "        self._S = S\n",
    "        self._P = P\n",
    "        self._G = G\n",
    "        self._public_key = S * G * P\n",
    "        \n",
    "    def _repr_(self):\n",
    "        \"\"\"\n",
    "        Método que devuelve una representación en cadena de caracteres de la clase.\n",
    "\n",
    "        Devuelve:\n",
    "            - Cadena de caracteres que representa el objeto.\n",
    "        \"\"\"\n",
    "        return \"McEliece Cryptosystem with {}\".format(self._C)  \n",
    "   \n",
    "    \n",
    "    def public_key(self):\n",
    "        \"\"\"\n",
    "        Método que devuelve la clave pública.\n",
    "\n",
    "        Devuelve:\n",
    "            - La clave pública.\n",
    "        \"\"\"\n",
    "        return self._public_key\n",
    "    \n",
    "    def encrypt(self, m):\n",
    "        \"\"\"\n",
    "        Método para encriptar un mensaje.\n",
    "\n",
    "        Parámetros:\n",
    "            - m: mensaje a encriptar.\n",
    "            \n",
    "        Devuelve:\n",
    "            - Mensaje encriptado.\n",
    "        \"\"\"\n",
    "        e = random_error(self._public_key.ncols(), floor((self._C.designed_distance()-1)/2), self._C.base_field())\n",
    "        c = m * self._public_key + e\n",
    "        \n",
    "        return c\n",
    "    \n",
    "    def decrypt(self, c):\n",
    "        \"\"\"\n",
    "        Método para desencriptar un mensaje.\n",
    "\n",
    "        Parámetros:\n",
    "            - c: mensaje encriptado.\n",
    "            \n",
    "        Devuelve:\n",
    "            - Mensaje desencriptado.\n",
    "        \"\"\"\n",
    "        word = c * self._P^(-1)\n",
    "        D = BCHDecoderS(self._C)\n",
    "        word = D.decode_to_message(word)\n",
    "        message = word * (self._S)^(-1)\n",
    "        \n",
    "        return message"
   ]
  },
  {
   "cell_type": "markdown",
   "metadata": {},
   "source": [
    "## Ejemplo 1"
   ]
  },
  {
   "cell_type": "markdown",
   "metadata": {},
   "source": [
    "### Generación del del encriptador y la palabra a codificar"
   ]
  },
  {
   "cell_type": "markdown",
   "metadata": {},
   "source": [
    "Como es un código binario, utilizaremos $\\mathbb{F}_{2}$ como el cuerpo base. La longitud será $7$ y la distancia diseñada $3$:"
   ]
  },
  {
   "cell_type": "code",
   "execution_count": 7,
   "metadata": {
    "scrolled": true
   },
   "outputs": [
    {
     "name": "stdout",
     "output_type": "stream",
     "text": [
      "Encriptador de McEliece:\n",
      "McEliece Cryptosystem with [13, 1] BCH Code over GF(2) with designed distance 3\n",
      "\n",
      "Clave pública:\n"
     ]
    },
    {
     "name": "stderr",
     "output_type": "stream",
     "text": [
      "/usr/lib/python3/dist-packages/sage/coding/cyclic_code.py:451: FutureWarning: This class/method/function is marked as experimental. It, its functionality or its interface might change without a formal deprecation.\n",
      "See http://trac.sagemath.org/20284 for details.\n",
      "  FE = RelativeFiniteFieldExtension(Fsplit, F,\n"
     ]
    },
    {
     "data": {
      "text/html": [
       "<html><script type=\"math/tex; mode=display\">\\newcommand{\\Bold}[1]{\\mathbf{#1}}\\left(\\begin{array}{rrrrrrrrrrrrr}\n",
       "1 & 1 & 1 & 1 & 1 & 1 & 1 & 1 & 1 & 1 & 1 & 1 & 1\n",
       "\\end{array}\\right)</script></html>"
      ],
      "text/plain": [
       "[1 1 1 1 1 1 1 1 1 1 1 1 1]"
      ]
     },
     "metadata": {},
     "output_type": "display_data"
    }
   ],
   "source": [
    "q = 2\n",
    "F = GF(q)\n",
    "n = 13\n",
    "delta = 3\n",
    "M = McElieceEncrypter(n, delta)\n",
    "d = M.public_key().nrows()\n",
    "\n",
    "print(\"Encriptador de McEliece:\")\n",
    "print(M._repr_())\n",
    "\n",
    "print(\"\\nClave pública:\")\n",
    "show(M.public_key())"
   ]
  },
  {
   "cell_type": "markdown",
   "metadata": {},
   "source": [
    "Generamos una palabra aleatoria de tamaño $d=1$ de elementos del cuerpo finito, $\\mathbb{F}_{2}$."
   ]
  },
  {
   "cell_type": "code",
   "execution_count": 8,
   "metadata": {
    "scrolled": true
   },
   "outputs": [
    {
     "name": "stdout",
     "output_type": "stream",
     "text": [
      "\n",
      "Palabra para codificar:\n"
     ]
    },
    {
     "data": {
      "text/html": [
       "<html><script type=\"math/tex; mode=display\">\\newcommand{\\Bold}[1]{\\mathbf{#1}}\\left(1\\right)</script></html>"
      ],
      "text/plain": [
       "(1)"
      ]
     },
     "metadata": {},
     "output_type": "display_data"
    }
   ],
   "source": [
    "print(\"\\nPalabra para codificar:\")\n",
    "message = random_word(d, F)\n",
    "show(message)"
   ]
  },
  {
   "cell_type": "markdown",
   "metadata": {},
   "source": [
    "Encriptamos la palabra:"
   ]
  },
  {
   "cell_type": "code",
   "execution_count": 9,
   "metadata": {},
   "outputs": [
    {
     "name": "stdout",
     "output_type": "stream",
     "text": [
      "\n",
      "Palabra codificada:\n"
     ]
    },
    {
     "data": {
      "text/html": [
       "<html><script type=\"math/tex; mode=display\">\\newcommand{\\Bold}[1]{\\mathbf{#1}}\\left(1,\\,1,\\,1,\\,1,\\,1,\\,1,\\,1,\\,1,\\,1,\\,1,\\,1,\\,1,\\,1\\right)</script></html>"
      ],
      "text/plain": [
       "(1, 1, 1, 1, 1, 1, 1, 1, 1, 1, 1, 1, 1)"
      ]
     },
     "metadata": {},
     "output_type": "display_data"
    }
   ],
   "source": [
    "print(\"\\nPalabra codificada:\")\n",
    "c = M.encrypt(message)\n",
    "show(c)"
   ]
  },
  {
   "cell_type": "markdown",
   "metadata": {},
   "source": [
    "Desencriptamos para intentar recuperar el mensaje original:"
   ]
  },
  {
   "cell_type": "code",
   "execution_count": 10,
   "metadata": {},
   "outputs": [
    {
     "name": "stdout",
     "output_type": "stream",
     "text": [
      "\n",
      "Mensaje desencriptado:\n"
     ]
    },
    {
     "data": {
      "text/html": [
       "<html><script type=\"math/tex; mode=display\">\\newcommand{\\Bold}[1]{\\mathbf{#1}}\\left(1\\right)</script></html>"
      ],
      "text/plain": [
       "(1)"
      ]
     },
     "metadata": {},
     "output_type": "display_data"
    }
   ],
   "source": [
    "print(\"\\nMensaje desencriptado:\")\n",
    "message_decrypt = M.decrypt(c)\n",
    "show(message_decrypt)"
   ]
  },
  {
   "cell_type": "code",
   "execution_count": 11,
   "metadata": {},
   "outputs": [
    {
     "data": {
      "text/html": [
       "<p style='color:green; font-size:16px;'></br>El mensaje desencriptado coincide con el original</p>"
      ],
      "text/plain": [
       "<IPython.core.display.HTML object>"
      ]
     },
     "execution_count": 11,
     "metadata": {},
     "output_type": "execute_result"
    }
   ],
   "source": [
    "if message == message_decrypt:\n",
    "    mensaje = \"<p style='color:green; font-size:16px;'></br>El mensaje desencriptado coincide con el original</p>\"\n",
    "else:\n",
    "    mensaje = \"<p style='color:red; font-size:16px;'></br>El mensaje desencriptado no coincide con el original</p>\"\n",
    "\n",
    "HTML(mensaje)"
   ]
  },
  {
   "cell_type": "markdown",
   "metadata": {},
   "source": [
    "## Ejemplo 2"
   ]
  },
  {
   "cell_type": "markdown",
   "metadata": {},
   "source": [
    "### Generación del del encriptador y la palabra a codificar"
   ]
  },
  {
   "cell_type": "markdown",
   "metadata": {},
   "source": [
    "Como es un código binario, utilizaremos $\\mathbb{F}_{2}$ como el cuerpo base. La longitud será $23$ y la distancia diseñada $5$:"
   ]
  },
  {
   "cell_type": "code",
   "execution_count": 12,
   "metadata": {
    "scrolled": false
   },
   "outputs": [
    {
     "name": "stdout",
     "output_type": "stream",
     "text": [
      "Encriptador de McEliece:\n",
      "McEliece Cryptosystem with [23, 12] BCH Code over GF(2) with designed distance 5\n",
      "\n",
      "Clave pública:\n"
     ]
    },
    {
     "data": {
      "text/html": [
       "<html><script type=\"math/tex; mode=display\">\\newcommand{\\Bold}[1]{\\mathbf{#1}}\\left(\\begin{array}{rrrrrrrrrrrrrrrrrrrrrrr}\n",
       "0 & 0 & 1 & 0 & 1 & 0 & 0 & 1 & 0 & 0 & 0 & 1 & 1 & 0 & 1 & 0 & 1 & 0 & 0 & 1 & 0 & 0 & 0 \\\\\n",
       "1 & 1 & 0 & 1 & 0 & 0 & 1 & 0 & 1 & 0 & 1 & 0 & 0 & 0 & 0 & 0 & 0 & 1 & 0 & 0 & 0 & 0 & 1 \\\\\n",
       "0 & 1 & 1 & 0 & 1 & 0 & 1 & 1 & 1 & 0 & 0 & 1 & 0 & 1 & 1 & 0 & 1 & 0 & 0 & 0 & 0 & 0 & 1 \\\\\n",
       "1 & 0 & 0 & 0 & 0 & 1 & 1 & 0 & 1 & 0 & 1 & 0 & 1 & 0 & 1 & 1 & 0 & 1 & 1 & 0 & 0 & 1 & 1 \\\\\n",
       "1 & 1 & 1 & 0 & 0 & 0 & 0 & 1 & 0 & 1 & 0 & 0 & 0 & 0 & 0 & 0 & 0 & 0 & 1 & 0 & 1 & 0 & 0 \\\\\n",
       "1 & 0 & 1 & 0 & 1 & 1 & 1 & 1 & 1 & 1 & 1 & 0 & 1 & 1 & 0 & 0 & 0 & 1 & 1 & 0 & 0 & 1 & 1 \\\\\n",
       "1 & 0 & 0 & 0 & 1 & 1 & 0 & 0 & 0 & 1 & 0 & 0 & 1 & 1 & 1 & 1 & 0 & 1 & 0 & 1 & 1 & 0 & 0 \\\\\n",
       "1 & 0 & 1 & 1 & 0 & 0 & 1 & 1 & 0 & 1 & 0 & 1 & 1 & 0 & 0 & 1 & 0 & 1 & 1 & 0 & 1 & 0 & 0 \\\\\n",
       "1 & 0 & 0 & 0 & 1 & 0 & 0 & 0 & 0 & 1 & 0 & 1 & 0 & 1 & 1 & 1 & 1 & 1 & 1 & 0 & 0 & 1 & 0 \\\\\n",
       "1 & 1 & 0 & 0 & 1 & 0 & 1 & 0 & 0 & 1 & 1 & 1 & 1 & 1 & 0 & 0 & 1 & 1 & 1 & 0 & 1 & 1 & 1 \\\\\n",
       "0 & 1 & 0 & 1 & 0 & 1 & 1 & 1 & 0 & 1 & 1 & 0 & 1 & 0 & 0 & 0 & 1 & 0 & 1 & 1 & 0 & 1 & 0 \\\\\n",
       "0 & 0 & 0 & 0 & 0 & 1 & 1 & 0 & 0 & 1 & 0 & 0 & 0 & 0 & 0 & 0 & 1 & 0 & 0 & 1 & 0 & 1 & 1\n",
       "\\end{array}\\right)</script></html>"
      ],
      "text/plain": [
       "[0 0 1 0 1 0 0 1 0 0 0 1 1 0 1 0 1 0 0 1 0 0 0]\n",
       "[1 1 0 1 0 0 1 0 1 0 1 0 0 0 0 0 0 1 0 0 0 0 1]\n",
       "[0 1 1 0 1 0 1 1 1 0 0 1 0 1 1 0 1 0 0 0 0 0 1]\n",
       "[1 0 0 0 0 1 1 0 1 0 1 0 1 0 1 1 0 1 1 0 0 1 1]\n",
       "[1 1 1 0 0 0 0 1 0 1 0 0 0 0 0 0 0 0 1 0 1 0 0]\n",
       "[1 0 1 0 1 1 1 1 1 1 1 0 1 1 0 0 0 1 1 0 0 1 1]\n",
       "[1 0 0 0 1 1 0 0 0 1 0 0 1 1 1 1 0 1 0 1 1 0 0]\n",
       "[1 0 1 1 0 0 1 1 0 1 0 1 1 0 0 1 0 1 1 0 1 0 0]\n",
       "[1 0 0 0 1 0 0 0 0 1 0 1 0 1 1 1 1 1 1 0 0 1 0]\n",
       "[1 1 0 0 1 0 1 0 0 1 1 1 1 1 0 0 1 1 1 0 1 1 1]\n",
       "[0 1 0 1 0 1 1 1 0 1 1 0 1 0 0 0 1 0 1 1 0 1 0]\n",
       "[0 0 0 0 0 1 1 0 0 1 0 0 0 0 0 0 1 0 0 1 0 1 1]"
      ]
     },
     "metadata": {},
     "output_type": "display_data"
    }
   ],
   "source": [
    "q = 2\n",
    "F = GF(q)\n",
    "n = 23\n",
    "delta = 5\n",
    "M = McElieceEncrypter(n, delta)\n",
    "d = M.public_key().nrows()\n",
    "\n",
    "print(\"Encriptador de McEliece:\")\n",
    "print(M._repr_())\n",
    "\n",
    "print(\"\\nClave pública:\")\n",
    "show(M.public_key())"
   ]
  },
  {
   "cell_type": "markdown",
   "metadata": {},
   "source": [
    "Generamos una palabra aleatoria de tamaño $d=12$ de elementos del cuerpo finito, $\\mathbb{F}_{2}$."
   ]
  },
  {
   "cell_type": "code",
   "execution_count": 13,
   "metadata": {
    "scrolled": true
   },
   "outputs": [
    {
     "name": "stdout",
     "output_type": "stream",
     "text": [
      "\n",
      "Palabra para codificar:\n"
     ]
    },
    {
     "data": {
      "text/html": [
       "<html><script type=\"math/tex; mode=display\">\\newcommand{\\Bold}[1]{\\mathbf{#1}}\\left(1,\\,0,\\,1,\\,1,\\,1,\\,0,\\,0,\\,0,\\,0,\\,1,\\,1,\\,1\\right)</script></html>"
      ],
      "text/plain": [
       "(1, 0, 1, 1, 1, 0, 0, 0, 0, 1, 1, 1)"
      ]
     },
     "metadata": {},
     "output_type": "display_data"
    }
   ],
   "source": [
    "print(\"\\nPalabra para codificar:\")\n",
    "message = random_word(d, F)\n",
    "show(message)"
   ]
  },
  {
   "cell_type": "markdown",
   "metadata": {},
   "source": [
    "Encriptamos la palabra:"
   ]
  },
  {
   "cell_type": "code",
   "execution_count": 14,
   "metadata": {},
   "outputs": [
    {
     "name": "stdout",
     "output_type": "stream",
     "text": [
      "\n",
      "Palabra codificada:\n"
     ]
    },
    {
     "data": {
      "text/html": [
       "<html><script type=\"math/tex; mode=display\">\\newcommand{\\Bold}[1]{\\mathbf{#1}}\\left(1,\\,0,\\,1,\\,1,\\,1,\\,1,\\,1,\\,0,\\,0,\\,0,\\,1,\\,1,\\,0,\\,0,\\,1,\\,1,\\,1,\\,0,\\,0,\\,1,\\,0,\\,0,\\,0\\right)</script></html>"
      ],
      "text/plain": [
       "(1, 0, 1, 1, 1, 1, 1, 0, 0, 0, 1, 1, 0, 0, 1, 1, 1, 0, 0, 1, 0, 0, 0)"
      ]
     },
     "metadata": {},
     "output_type": "display_data"
    }
   ],
   "source": [
    "print(\"\\nPalabra codificada:\")\n",
    "c = M.encrypt(message)\n",
    "show(c)"
   ]
  },
  {
   "cell_type": "markdown",
   "metadata": {},
   "source": [
    "Desencriptamos para intentar recuperar el mensaje original:"
   ]
  },
  {
   "cell_type": "code",
   "execution_count": 15,
   "metadata": {},
   "outputs": [
    {
     "name": "stdout",
     "output_type": "stream",
     "text": [
      "\n",
      "Mensaje desencriptado:\n"
     ]
    },
    {
     "data": {
      "text/html": [
       "<html><script type=\"math/tex; mode=display\">\\newcommand{\\Bold}[1]{\\mathbf{#1}}\\left(1,\\,0,\\,1,\\,1,\\,1,\\,0,\\,0,\\,0,\\,0,\\,1,\\,1,\\,1\\right)</script></html>"
      ],
      "text/plain": [
       "(1, 0, 1, 1, 1, 0, 0, 0, 0, 1, 1, 1)"
      ]
     },
     "metadata": {},
     "output_type": "display_data"
    }
   ],
   "source": [
    "print(\"\\nMensaje desencriptado:\")\n",
    "message_decrypt = M.decrypt(c)\n",
    "show(message_decrypt)"
   ]
  },
  {
   "cell_type": "code",
   "execution_count": 16,
   "metadata": {},
   "outputs": [
    {
     "data": {
      "text/html": [
       "<p style='color:green; font-size:16px;'></br>El mensaje desencriptado coincide con el original</p>"
      ],
      "text/plain": [
       "<IPython.core.display.HTML object>"
      ]
     },
     "execution_count": 16,
     "metadata": {},
     "output_type": "execute_result"
    }
   ],
   "source": [
    "if message == message_decrypt:\n",
    "    mensaje = \"<p style='color:green; font-size:16px;'></br>El mensaje desencriptado coincide con el original</p>\"\n",
    "else:\n",
    "    mensaje = \"<p style='color:red; font-size:16px;'></br>El mensaje desencriptado no coincide con el original</p>\"\n",
    "\n",
    "HTML(mensaje)"
   ]
  },
  {
   "cell_type": "markdown",
   "metadata": {},
   "source": [
    "## Ejemplo 3"
   ]
  },
  {
   "cell_type": "markdown",
   "metadata": {},
   "source": [
    "### Generación del del encriptador y la palabra a codificar"
   ]
  },
  {
   "cell_type": "markdown",
   "metadata": {},
   "source": [
    "Como es un código binario, utilizaremos $\\mathbb{F}_{2}$ como el cuerpo base. La longitud será $49$ y la distancia diseñada $11$:"
   ]
  },
  {
   "cell_type": "code",
   "execution_count": 17,
   "metadata": {
    "scrolled": true
   },
   "outputs": [
    {
     "name": "stdout",
     "output_type": "stream",
     "text": [
      "Encriptador de McEliece:\n",
      "McEliece Cryptosystem with [49, 4] BCH Code over GF(2) with designed distance 11\n",
      "\n",
      "Clave pública:\n"
     ]
    },
    {
     "data": {
      "text/html": [
       "<html><script type=\"math/tex; mode=display\">\\newcommand{\\Bold}[1]{\\mathbf{#1}}\\left(\\begin{array}{rrrrrrrrrrrrrrrrrrrrrrrrrrrrrrrrrrrrrrrrrrrrrrrrr}\n",
       "1 & 1 & 0 & 0 & 1 & 1 & 1 & 1 & 1 & 1 & 1 & 1 & 1 & 1 & 1 & 0 & 0 & 0 & 0 & 1 & 0 & 1 & 0 & 1 & 1 & 0 & 0 & 0 & 1 & 0 & 1 & 0 & 0 & 1 & 0 & 1 & 1 & 0 & 1 & 0 & 0 & 0 & 1 & 1 & 1 & 1 & 1 & 0 & 0 \\\\\n",
       "1 & 0 & 1 & 0 & 0 & 0 & 0 & 0 & 1 & 1 & 1 & 1 & 0 & 0 & 1 & 0 & 1 & 1 & 1 & 0 & 1 & 1 & 1 & 1 & 1 & 0 & 1 & 0 & 0 & 1 & 0 & 1 & 1 & 1 & 1 & 1 & 1 & 0 & 1 & 1 & 1 & 0 & 0 & 1 & 0 & 0 & 0 & 0 & 1 \\\\\n",
       "1 & 1 & 1 & 1 & 0 & 1 & 0 & 0 & 0 & 0 & 1 & 1 & 1 & 0 & 0 & 1 & 1 & 0 & 0 & 1 & 0 & 1 & 0 & 0 & 1 & 1 & 1 & 1 & 1 & 1 & 0 & 0 & 1 & 0 & 0 & 0 & 0 & 1 & 1 & 1 & 1 & 1 & 1 & 1 & 0 & 1 & 0 & 1 & 0 \\\\\n",
       "0 & 1 & 0 & 1 & 1 & 1 & 1 & 1 & 0 & 0 & 0 & 0 & 1 & 1 & 0 & 1 & 0 & 0 & 0 & 1 & 0 & 0 & 0 & 0 & 0 & 1 & 0 & 1 & 1 & 0 & 1 & 0 & 0 & 0 & 0 & 0 & 0 & 1 & 0 & 0 & 0 & 1 & 1 & 0 & 1 & 1 & 1 & 1 & 0\n",
       "\\end{array}\\right)</script></html>"
      ],
      "text/plain": [
       "[1 1 0 0 1 1 1 1 1 1 1 1 1 1 1 0 0 0 0 1 0 1 0 1 1 0 0 0 1 0 1 0 0 1 0 1 1 0 1 0 0 0 1 1 1 1 1 0 0]\n",
       "[1 0 1 0 0 0 0 0 1 1 1 1 0 0 1 0 1 1 1 0 1 1 1 1 1 0 1 0 0 1 0 1 1 1 1 1 1 0 1 1 1 0 0 1 0 0 0 0 1]\n",
       "[1 1 1 1 0 1 0 0 0 0 1 1 1 0 0 1 1 0 0 1 0 1 0 0 1 1 1 1 1 1 0 0 1 0 0 0 0 1 1 1 1 1 1 1 0 1 0 1 0]\n",
       "[0 1 0 1 1 1 1 1 0 0 0 0 1 1 0 1 0 0 0 1 0 0 0 0 0 1 0 1 1 0 1 0 0 0 0 0 0 1 0 0 0 1 1 0 1 1 1 1 0]"
      ]
     },
     "metadata": {},
     "output_type": "display_data"
    }
   ],
   "source": [
    "q = 2\n",
    "F = GF(q)\n",
    "n = 49\n",
    "delta = 11\n",
    "M = McElieceEncrypter(n, delta)\n",
    "d = M.public_key().nrows()\n",
    "\n",
    "print(\"Encriptador de McEliece:\")\n",
    "print(M._repr_())\n",
    "\n",
    "print(\"\\nClave pública:\")\n",
    "show(M.public_key())"
   ]
  },
  {
   "cell_type": "markdown",
   "metadata": {},
   "source": [
    "Generamos una palabra aleatoria de tamaño $d=4$ de elementos del cuerpo finito, $\\mathbb{F}_{2}$."
   ]
  },
  {
   "cell_type": "code",
   "execution_count": 18,
   "metadata": {
    "scrolled": true
   },
   "outputs": [
    {
     "name": "stdout",
     "output_type": "stream",
     "text": [
      "\n",
      "Palabra para codificar:\n"
     ]
    },
    {
     "data": {
      "text/html": [
       "<html><script type=\"math/tex; mode=display\">\\newcommand{\\Bold}[1]{\\mathbf{#1}}\\left(1,\\,1,\\,1,\\,0\\right)</script></html>"
      ],
      "text/plain": [
       "(1, 1, 1, 0)"
      ]
     },
     "metadata": {},
     "output_type": "display_data"
    }
   ],
   "source": [
    "print(\"\\nPalabra para codificar:\")\n",
    "message = random_word(d, F)\n",
    "show(message)"
   ]
  },
  {
   "cell_type": "markdown",
   "metadata": {},
   "source": [
    "Encriptamos la palabra:"
   ]
  },
  {
   "cell_type": "code",
   "execution_count": 19,
   "metadata": {},
   "outputs": [
    {
     "name": "stdout",
     "output_type": "stream",
     "text": [
      "\n",
      "Palabra codificada:\n"
     ]
    },
    {
     "data": {
      "text/html": [
       "<html><script type=\"math/tex; mode=display\">\\newcommand{\\Bold}[1]{\\mathbf{#1}}\\left(1,\\,0,\\,0,\\,1,\\,1,\\,0,\\,1,\\,1,\\,0,\\,0,\\,1,\\,1,\\,0,\\,1,\\,0,\\,1,\\,0,\\,1,\\,1,\\,0,\\,1,\\,1,\\,1,\\,0,\\,1,\\,1,\\,0,\\,0,\\,0,\\,0,\\,1,\\,1,\\,0,\\,0,\\,1,\\,0,\\,0,\\,1,\\,1,\\,0,\\,0,\\,1,\\,0,\\,1,\\,1,\\,0,\\,1,\\,1,\\,1\\right)</script></html>"
      ],
      "text/plain": [
       "(1, 0, 0, 1, 1, 0, 1, 1, 0, 0, 1, 1, 0, 1, 0, 1, 0, 1, 1, 0, 1, 1, 1, 0, 1, 1, 0, 0, 0, 0, 1, 1, 0, 0, 1, 0, 0, 1, 1, 0, 0, 1, 0, 1, 1, 0, 1, 1, 1)"
      ]
     },
     "metadata": {},
     "output_type": "display_data"
    }
   ],
   "source": [
    "print(\"\\nPalabra codificada:\")\n",
    "c = M.encrypt(message)\n",
    "show(c)"
   ]
  },
  {
   "cell_type": "markdown",
   "metadata": {},
   "source": [
    "Desencriptamos para intentar recuperar el mensaje original:"
   ]
  },
  {
   "cell_type": "code",
   "execution_count": 20,
   "metadata": {},
   "outputs": [
    {
     "name": "stdout",
     "output_type": "stream",
     "text": [
      "\n",
      "Mensaje desencriptado:\n"
     ]
    },
    {
     "data": {
      "text/html": [
       "<html><script type=\"math/tex; mode=display\">\\newcommand{\\Bold}[1]{\\mathbf{#1}}\\left(1,\\,1,\\,1,\\,0\\right)</script></html>"
      ],
      "text/plain": [
       "(1, 1, 1, 0)"
      ]
     },
     "metadata": {},
     "output_type": "display_data"
    }
   ],
   "source": [
    "print(\"\\nMensaje desencriptado:\")\n",
    "message_decrypt = M.decrypt(c)\n",
    "show(message_decrypt)"
   ]
  },
  {
   "cell_type": "code",
   "execution_count": 21,
   "metadata": {},
   "outputs": [
    {
     "data": {
      "text/html": [
       "<p style='color:green; font-size:16px;'></br>El mensaje desencriptado coincide con el original</p>"
      ],
      "text/plain": [
       "<IPython.core.display.HTML object>"
      ]
     },
     "execution_count": 21,
     "metadata": {},
     "output_type": "execute_result"
    }
   ],
   "source": [
    "if message == message_decrypt:\n",
    "    mensaje = \"<p style='color:green; font-size:16px;'></br>El mensaje desencriptado coincide con el original</p>\"\n",
    "else:\n",
    "    mensaje = \"<p style='color:red; font-size:16px;'></br>El mensaje desencriptado no coincide con el original</p>\"\n",
    "\n",
    "HTML(mensaje)"
   ]
  }
 ],
 "metadata": {
  "kernelspec": {
   "display_name": "SageMath 9.0",
   "language": "sage",
   "name": "sagemath"
  },
  "language_info": {
   "codemirror_mode": {
    "name": "ipython",
    "version": 3
   },
   "file_extension": ".py",
   "mimetype": "text/x-python",
   "name": "python",
   "nbconvert_exporter": "python",
   "pygments_lexer": "ipython3",
   "version": "3.8.10"
  }
 },
 "nbformat": 4,
 "nbformat_minor": 4
}
